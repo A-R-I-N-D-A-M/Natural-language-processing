{
  "nbformat": 4,
  "nbformat_minor": 0,
  "metadata": {
    "colab": {
      "name": "text generation on custom dataset with gpt2.ipynb",
      "provenance": [],
      "collapsed_sections": [],
      "mount_file_id": "17_cB7cP4UGe2MRtuH8LxrIZrppfhdlT3",
      "authorship_tag": "ABX9TyMySgXyg3+5iFCuKW95ktdg",
      "include_colab_link": true
    },
    "kernelspec": {
      "name": "python3",
      "display_name": "Python 3"
    },
    "accelerator": "GPU"
  },
  "cells": [
    {
      "cell_type": "markdown",
      "metadata": {
        "id": "view-in-github",
        "colab_type": "text"
      },
      "source": [
        "<a href=\"https://colab.research.google.com/github/A-R-I-N-D-A-M/intermediate/blob/master/text_generation_on_custom_dataset_with_gpt2.ipynb\" target=\"_parent\"><img src=\"https://colab.research.google.com/assets/colab-badge.svg\" alt=\"Open In Colab\"/></a>"
      ]
    },
    {
      "cell_type": "code",
      "metadata": {
        "colab": {
          "base_uri": "https://localhost:8080/"
        },
        "id": "Z3Vz_OhaBbv0",
        "outputId": "a02a31e8-0b5f-4dc4-c808-46f083ad9e57"
      },
      "source": [
        "%tensorflow_version 1.x\n",
        "!pip install -q gpt-2-simple\n",
        "import gpt_2_simple as gpt2"
      ],
      "execution_count": null,
      "outputs": [
        {
          "output_type": "stream",
          "text": [
            "TensorFlow 1.x selected.\n",
            "WARNING:tensorflow:\n",
            "The TensorFlow contrib module will not be included in TensorFlow 2.0.\n",
            "For more information, please see:\n",
            "  * https://github.com/tensorflow/community/blob/master/rfcs/20180907-contrib-sunset.md\n",
            "  * https://github.com/tensorflow/addons\n",
            "  * https://github.com/tensorflow/io (for I/O related ops)\n",
            "If you depend on functionality not listed there, please file an issue.\n",
            "\n"
          ],
          "name": "stdout"
        }
      ]
    },
    {
      "cell_type": "code",
      "metadata": {
        "colab": {
          "base_uri": "https://localhost:8080/"
        },
        "id": "By_RZmmuDbB7",
        "outputId": "52498c2d-28d4-4ae4-cf30-759c55f5fb3c"
      },
      "source": [
        "!nvidia-smi"
      ],
      "execution_count": null,
      "outputs": [
        {
          "output_type": "stream",
          "text": [
            "Tue Dec 22 02:26:02 2020       \n",
            "+-----------------------------------------------------------------------------+\n",
            "| NVIDIA-SMI 455.45.01    Driver Version: 418.67       CUDA Version: 10.1     |\n",
            "|-------------------------------+----------------------+----------------------+\n",
            "| GPU  Name        Persistence-M| Bus-Id        Disp.A | Volatile Uncorr. ECC |\n",
            "| Fan  Temp  Perf  Pwr:Usage/Cap|         Memory-Usage | GPU-Util  Compute M. |\n",
            "|                               |                      |               MIG M. |\n",
            "|===============================+======================+======================|\n",
            "|   0  Tesla T4            Off  | 00000000:00:04.0 Off |                    0 |\n",
            "| N/A   52C    P8    12W /  70W |      0MiB / 15079MiB |      0%      Default |\n",
            "|                               |                      |                 ERR! |\n",
            "+-------------------------------+----------------------+----------------------+\n",
            "                                                                               \n",
            "+-----------------------------------------------------------------------------+\n",
            "| Processes:                                                                  |\n",
            "|  GPU   GI   CI        PID   Type   Process name                  GPU Memory |\n",
            "|        ID   ID                                                   Usage      |\n",
            "|=============================================================================|\n",
            "|  No running processes found                                                 |\n",
            "+-----------------------------------------------------------------------------+\n"
          ],
          "name": "stdout"
        }
      ]
    },
    {
      "cell_type": "code",
      "metadata": {
        "colab": {
          "base_uri": "https://localhost:8080/"
        },
        "id": "zMmWdDOQDdJW",
        "outputId": "a08766b6-f7e3-4283-ed9e-a4a227600708"
      },
      "source": [
        "gpt2.download_gpt2(model_name=\"124M\")"
      ],
      "execution_count": null,
      "outputs": [
        {
          "output_type": "stream",
          "text": [
            "Fetching checkpoint: 1.05Mit [00:00, 371Mit/s]                                                      \n",
            "Fetching encoder.json: 1.05Mit [00:00, 114Mit/s]                                                    \n",
            "Fetching hparams.json: 1.05Mit [00:00, 388Mit/s]                                                    \n",
            "Fetching model.ckpt.data-00000-of-00001: 498Mit [00:02, 199Mit/s]                                   \n",
            "Fetching model.ckpt.index: 1.05Mit [00:00, 354Mit/s]                                                \n",
            "Fetching model.ckpt.meta: 1.05Mit [00:00, 184Mit/s]                                                 \n",
            "Fetching vocab.bpe: 1.05Mit [00:00, 175Mit/s]                                                       \n"
          ],
          "name": "stderr"
        }
      ]
    },
    {
      "cell_type": "code",
      "metadata": {
        "id": "9LyvmowdDfZv"
      },
      "source": [
        "file_name='/content/shakespeare.txt'"
      ],
      "execution_count": null,
      "outputs": []
    },
    {
      "cell_type": "code",
      "metadata": {
        "id": "l8z9iqTLbJPU"
      },
      "source": [
        "def generate_lines(line):\n",
        "  return gpt2.generate(sess,\n",
        "              #model_name=model_name,\n",
        "              prefix=line,\n",
        "              length=200,\n",
        "              temperature=0.8,\n",
        "              top_p=0.9,\n",
        "              nsamples=5,\n",
        "              batch_size=5\n",
        "              )"
      ],
      "execution_count": null,
      "outputs": []
    },
    {
      "cell_type": "code",
      "metadata": {
        "colab": {
          "base_uri": "https://localhost:8080/"
        },
        "id": "hj-bDVoWbR5S",
        "outputId": "d611e752-29e0-430a-979f-58e78e1d7e0f"
      },
      "source": [
        "generate_lines('Will you marry me?')"
      ],
      "execution_count": null,
      "outputs": [
        {
          "output_type": "stream",
          "text": [
            "Will you marry me?\n",
            "  No, for I am thy husband;\n",
            "  And if thou go, I will take thee away.\n",
            "  I will take thee out of thy heart, and make thee a man\n",
            "  Who art but the raggedy hand that thrills my work;\n",
            "  Will tie my life away with thine own hand,\n",
            "  Wash it all away, and make my life second.\n",
            "  Do not be so true to my love,--my love is\n",
            "  A man's thought, and his self a garment;\n",
            "  My love is a man's closet, and my self\n",
            "  Within the closet my soul doth hide.\n",
            "  Look, my love, when that closet is taken,\n",
            "  The dear comfort of my heart is taken,\n",
            "  And all the world with it,--all for me.\n",
            "    So shall I swear eternal love,--my love will stay\n",
            "    Where as when thou takest my life,\n",
            "====================\n",
            "Will you marry me?\n",
            "  No, for love's sake I must; my love is thoughtless,\n",
            "  And doth thought putrefy almost to perfection,\n",
            "  And this thought doth guess my love, thinking it wise;\n",
            "  But love's mistake is not so much my mistake as his love:\n",
            "  He is tamed, and haters taken away; his blood is new\n",
            "  And him for love's sake reared anew in hate.\n",
            "    O! what a bliss I had in my love's womb!\n",
            "    When hate and tears were shed and blood thine!\n",
            "    The child of my lovers I love,\n",
            "    And dote each by his blood alone.\n",
            "\n",
            "  CXL\n",
            "\n",
            "  O! lest my seat on the throne of love\n",
            "  Be unfather'd from my love's fleets,\n",
            "  And all my judgment down-bettered, myssit'd;\n",
            "  My virgin self thus to\n",
            "====================\n",
            "Will you marry me?\n",
            "  The time is come when you shall be wished\n",
            "  All over the land, where you shall dwell,\n",
            "  When all the breathers and coolers are gone,\n",
            "  You shall live in this earth, and make it your grave,\n",
            "  But that your seat might unused leave\n",
            "  From hence all the dwellers and all the days green,\n",
            "  Or you in this dreary grave be,\n",
            "  When summer's breath didst afflict and leaves sweet,\n",
            "  So you may be maythall himself!\n",
            "  O! therefore love, remember me not,\n",
            "  Though that heaven once gave you this fair shape,\n",
            "  And he most high forsworn you in thine.\n",
            "  If I may so recommend your love\n",
            "  As I may in this very god's creation remember\n",
            "  You in thine eye and heart; then can I lie\n",
            "  In thy heart and in thy bosom's proud rolling;\n",
            "  And\n",
            "====================\n",
            "Will you marry me?\n",
            "  No, I will not vouchsafe you shall spend.\n",
            "  I will take care that thou mayst remember me,\n",
            "  For thou art our elder state, and niggard know'st thou canst not abuse.\n",
            "  I will take care that thou mayst remember me,\n",
            "  For thou art our fairest state, and fairest gift shall I give.\n",
            "  Therefore love, as I think, would much as methinks would be;\n",
            "  So should love's worth, and thou, and all that is\n",
            "  In love with thy love's shortness make more real.\n",
            "  I love you in such sort as thou lov'st:\n",
            "  Rough as the sea is, and as thou goest\n",
            "  Towards the farthest shore thou canst find,\n",
            "  The land spread over this common ocean is home.\n",
            "  The crow that flies loves what flies at first,\n",
            "  But when flies away, flies farther away.\n",
            "====================\n",
            "Will you marry me?\n",
            "  O, no! I have sworn thee would\n",
            "  Gentle love, gentle hate, would please me be wed,\n",
            "  If that love were but lust, by usury brought forth\n",
            "  Death and dismember'd my soul in lustual labour.\n",
            "  O! but let my love be gentle, love will bear\n",
            "  The sense of thy pity, and look into thy friend's eyes,\n",
            "  And say, 'Thou lov'st truly my friend's death;\n",
            "  Then may I be true in love, and not sourly bow;\n",
            "  If that tongue that taught love to love say,\n",
            "  'Thou lov'st truly my friend's death, tell it not,\n",
            "  To show me by thy blood that thou art still,'\n",
            "  Then may I boast not, for I am still thy friend;\n",
            "    And yet, when my dear friend's eyes are bent,\n",
            "    They make me bow, and\n",
            "====================\n"
          ],
          "name": "stdout"
        }
      ]
    }
  ]
}