{
  "nbformat": 4,
  "nbformat_minor": 0,
  "metadata": {
    "colab": {
      "name": "Information retrieval using w2v and ELMo .ipynb",
      "provenance": [],
      "mount_file_id": "1HXWXIclKSqtZC_epiuPJALVuCrCj0Q_r",
      "authorship_tag": "ABX9TyN2byK2ItFB3hYejk8OwM07",
      "include_colab_link": true
    },
    "kernelspec": {
      "name": "python3",
      "display_name": "Python 3"
    }
  },
  "cells": [
    {
      "cell_type": "markdown",
      "metadata": {
        "id": "view-in-github",
        "colab_type": "text"
      },
      "source": [
        "<a href=\"https://colab.research.google.com/github/A-R-I-N-D-A-M/intermediate/blob/master/Information_retrieval_using_w2v_and_ELMo_.ipynb\" target=\"_parent\"><img src=\"https://colab.research.google.com/assets/colab-badge.svg\" alt=\"Open In Colab\"/></a>"
      ]
    },
    {
      "cell_type": "code",
      "metadata": {
        "id": "xp_HKHABrOv2"
      },
      "source": [
        "import pandas as pd\n",
        "import numpy as np"
      ],
      "execution_count": null,
      "outputs": []
    },
    {
      "cell_type": "code",
      "metadata": {
        "id": "oh1plBKNrW-6",
        "colab": {
          "base_uri": "https://localhost:8080/",
          "height": 204
        },
        "outputId": "2407dbd8-23e3-443d-81d2-3a23f083ff54"
      },
      "source": [
        "training_queries=pd.read_csv('/content/drive/MyDrive/Dataset/dataset/queries.csv')\n",
        "training_queries.head()"
      ],
      "execution_count": null,
      "outputs": [
        {
          "output_type": "execute_result",
          "data": {
            "text/html": [
              "<div>\n",
              "<style scoped>\n",
              "    .dataframe tbody tr th:only-of-type {\n",
              "        vertical-align: middle;\n",
              "    }\n",
              "\n",
              "    .dataframe tbody tr th {\n",
              "        vertical-align: top;\n",
              "    }\n",
              "\n",
              "    .dataframe thead th {\n",
              "        text-align: right;\n",
              "    }\n",
              "</style>\n",
              "<table border=\"1\" class=\"dataframe\">\n",
              "  <thead>\n",
              "    <tr style=\"text-align: right;\">\n",
              "      <th></th>\n",
              "      <th>qid</th>\n",
              "      <th>query</th>\n",
              "    </tr>\n",
              "  </thead>\n",
              "  <tbody>\n",
              "    <tr>\n",
              "      <th>0</th>\n",
              "      <td>1</td>\n",
              "      <td>what similarity laws must be obeyed when const...</td>\n",
              "    </tr>\n",
              "    <tr>\n",
              "      <th>1</th>\n",
              "      <td>2</td>\n",
              "      <td>what are the structural and aeroelastic proble...</td>\n",
              "    </tr>\n",
              "    <tr>\n",
              "      <th>2</th>\n",
              "      <td>3</td>\n",
              "      <td>what problems of heat conduction in composite ...</td>\n",
              "    </tr>\n",
              "    <tr>\n",
              "      <th>3</th>\n",
              "      <td>8</td>\n",
              "      <td>what methods -dash exact or approximate -dash ...</td>\n",
              "    </tr>\n",
              "    <tr>\n",
              "      <th>4</th>\n",
              "      <td>10</td>\n",
              "      <td>are real-gas transport properties for air avai...</td>\n",
              "    </tr>\n",
              "  </tbody>\n",
              "</table>\n",
              "</div>"
            ],
            "text/plain": [
              "   qid                                              query\n",
              "0    1  what similarity laws must be obeyed when const...\n",
              "1    2  what are the structural and aeroelastic proble...\n",
              "2    3  what problems of heat conduction in composite ...\n",
              "3    8  what methods -dash exact or approximate -dash ...\n",
              "4   10  are real-gas transport properties for air avai..."
            ]
          },
          "metadata": {
            "tags": []
          },
          "execution_count": 2
        }
      ]
    },
    {
      "cell_type": "code",
      "metadata": {
        "colab": {
          "base_uri": "https://localhost:8080/",
          "height": 204
        },
        "id": "xaHQ5oNcRhzZ",
        "outputId": "4876dbca-b0e2-4f2f-bcb1-1cd14ba8c907"
      },
      "source": [
        "testing_queries=pd.read_csv('/content/drive/MyDrive/Dataset/dataset/queries_val.csv')\n",
        "testing_queries.head()"
      ],
      "execution_count": null,
      "outputs": [
        {
          "output_type": "execute_result",
          "data": {
            "text/html": [
              "<div>\n",
              "<style scoped>\n",
              "    .dataframe tbody tr th:only-of-type {\n",
              "        vertical-align: middle;\n",
              "    }\n",
              "\n",
              "    .dataframe tbody tr th {\n",
              "        vertical-align: top;\n",
              "    }\n",
              "\n",
              "    .dataframe thead th {\n",
              "        text-align: right;\n",
              "    }\n",
              "</style>\n",
              "<table border=\"1\" class=\"dataframe\">\n",
              "  <thead>\n",
              "    <tr style=\"text-align: right;\">\n",
              "      <th></th>\n",
              "      <th>qid</th>\n",
              "      <th>query</th>\n",
              "    </tr>\n",
              "  </thead>\n",
              "  <tbody>\n",
              "    <tr>\n",
              "      <th>0</th>\n",
              "      <td>189</td>\n",
              "      <td>is there a design method for calculating therm...</td>\n",
              "    </tr>\n",
              "    <tr>\n",
              "      <th>1</th>\n",
              "      <td>190</td>\n",
              "      <td>will an analysis of panel flutter based on arb...</td>\n",
              "    </tr>\n",
              "    <tr>\n",
              "      <th>2</th>\n",
              "      <td>191</td>\n",
              "      <td>what is the criterion for true panel flutter, ...</td>\n",
              "    </tr>\n",
              "    <tr>\n",
              "      <th>3</th>\n",
              "      <td>194</td>\n",
              "      <td>how can the analytical solution of the bucklin...</td>\n",
              "    </tr>\n",
              "    <tr>\n",
              "      <th>4</th>\n",
              "      <td>196</td>\n",
              "      <td>the problem of similarity for representative i...</td>\n",
              "    </tr>\n",
              "  </tbody>\n",
              "</table>\n",
              "</div>"
            ],
            "text/plain": [
              "   qid                                              query\n",
              "0  189  is there a design method for calculating therm...\n",
              "1  190  will an analysis of panel flutter based on arb...\n",
              "2  191  what is the criterion for true panel flutter, ...\n",
              "3  194  how can the analytical solution of the bucklin...\n",
              "4  196  the problem of similarity for representative i..."
            ]
          },
          "metadata": {
            "tags": []
          },
          "execution_count": 3
        }
      ]
    },
    {
      "cell_type": "code",
      "metadata": {
        "colab": {
          "base_uri": "https://localhost:8080/",
          "height": 204
        },
        "id": "ENsjgdIdRqbt",
        "outputId": "01360e1a-f5de-4c99-dad1-2c8c6e29282a"
      },
      "source": [
        "train_top5=pd.read_csv('/content/drive/MyDrive/Dataset/dataset/qrel.csv')\n",
        "train_top5.head()"
      ],
      "execution_count": null,
      "outputs": [
        {
          "output_type": "execute_result",
          "data": {
            "text/html": [
              "<div>\n",
              "<style scoped>\n",
              "    .dataframe tbody tr th:only-of-type {\n",
              "        vertical-align: middle;\n",
              "    }\n",
              "\n",
              "    .dataframe tbody tr th {\n",
              "        vertical-align: top;\n",
              "    }\n",
              "\n",
              "    .dataframe thead th {\n",
              "        text-align: right;\n",
              "    }\n",
              "</style>\n",
              "<table border=\"1\" class=\"dataframe\">\n",
              "  <thead>\n",
              "    <tr style=\"text-align: right;\">\n",
              "      <th></th>\n",
              "      <th>qid</th>\n",
              "      <th>docid</th>\n",
              "      <th>rank</th>\n",
              "    </tr>\n",
              "  </thead>\n",
              "  <tbody>\n",
              "    <tr>\n",
              "      <th>0</th>\n",
              "      <td>1</td>\n",
              "      <td>184</td>\n",
              "      <td>1</td>\n",
              "    </tr>\n",
              "    <tr>\n",
              "      <th>1</th>\n",
              "      <td>1</td>\n",
              "      <td>29</td>\n",
              "      <td>2</td>\n",
              "    </tr>\n",
              "    <tr>\n",
              "      <th>2</th>\n",
              "      <td>1</td>\n",
              "      <td>31</td>\n",
              "      <td>3</td>\n",
              "    </tr>\n",
              "    <tr>\n",
              "      <th>3</th>\n",
              "      <td>1</td>\n",
              "      <td>57</td>\n",
              "      <td>4</td>\n",
              "    </tr>\n",
              "    <tr>\n",
              "      <th>4</th>\n",
              "      <td>1</td>\n",
              "      <td>378</td>\n",
              "      <td>5</td>\n",
              "    </tr>\n",
              "  </tbody>\n",
              "</table>\n",
              "</div>"
            ],
            "text/plain": [
              "   qid  docid  rank\n",
              "0    1    184     1\n",
              "1    1     29     2\n",
              "2    1     31     3\n",
              "3    1     57     4\n",
              "4    1    378     5"
            ]
          },
          "metadata": {
            "tags": []
          },
          "execution_count": 4
        }
      ]
    },
    {
      "cell_type": "code",
      "metadata": {
        "colab": {
          "base_uri": "https://localhost:8080/",
          "height": 204
        },
        "id": "__Cxlt1pSAej",
        "outputId": "370785c7-d2b1-4bc6-8f5c-5c3b5ba284cb"
      },
      "source": [
        "test_top5=pd.read_csv('/content/drive/MyDrive/Dataset/dataset/qrel_val.csv')\n",
        "test_top5.head()"
      ],
      "execution_count": null,
      "outputs": [
        {
          "output_type": "execute_result",
          "data": {
            "text/html": [
              "<div>\n",
              "<style scoped>\n",
              "    .dataframe tbody tr th:only-of-type {\n",
              "        vertical-align: middle;\n",
              "    }\n",
              "\n",
              "    .dataframe tbody tr th {\n",
              "        vertical-align: top;\n",
              "    }\n",
              "\n",
              "    .dataframe thead th {\n",
              "        text-align: right;\n",
              "    }\n",
              "</style>\n",
              "<table border=\"1\" class=\"dataframe\">\n",
              "  <thead>\n",
              "    <tr style=\"text-align: right;\">\n",
              "      <th></th>\n",
              "      <th>qid</th>\n",
              "      <th>docid</th>\n",
              "      <th>rank</th>\n",
              "    </tr>\n",
              "  </thead>\n",
              "  <tbody>\n",
              "    <tr>\n",
              "      <th>0</th>\n",
              "      <td>189</td>\n",
              "      <td>395</td>\n",
              "      <td>1</td>\n",
              "    </tr>\n",
              "    <tr>\n",
              "      <th>1</th>\n",
              "      <td>189</td>\n",
              "      <td>866</td>\n",
              "      <td>2</td>\n",
              "    </tr>\n",
              "    <tr>\n",
              "      <th>2</th>\n",
              "      <td>189</td>\n",
              "      <td>869</td>\n",
              "      <td>3</td>\n",
              "    </tr>\n",
              "    <tr>\n",
              "      <th>3</th>\n",
              "      <td>189</td>\n",
              "      <td>865</td>\n",
              "      <td>4</td>\n",
              "    </tr>\n",
              "    <tr>\n",
              "      <th>4</th>\n",
              "      <td>189</td>\n",
              "      <td>868</td>\n",
              "      <td>5</td>\n",
              "    </tr>\n",
              "  </tbody>\n",
              "</table>\n",
              "</div>"
            ],
            "text/plain": [
              "   qid  docid  rank\n",
              "0  189    395     1\n",
              "1  189    866     2\n",
              "2  189    869     3\n",
              "3  189    865     4\n",
              "4  189    868     5"
            ]
          },
          "metadata": {
            "tags": []
          },
          "execution_count": 5
        }
      ]
    },
    {
      "cell_type": "code",
      "metadata": {
        "id": "VPsss-jUSuwG"
      },
      "source": [
        "rel=list(range(1,4))\n",
        "train_top5['rel']=train_top5['rank'].apply(lambda x: 1 if x in rel else 0)\n",
        "test_top5['rel']=test_top5['rank'].apply(lambda x: 1 if x in rel else 0)"
      ],
      "execution_count": null,
      "outputs": []
    },
    {
      "cell_type": "code",
      "metadata": {
        "id": "khPHbmAoTdhw"
      },
      "source": [
        "train_top5['rel']=train_top5['rel'].astype(int)\n",
        "test_top5['rel']=test_top5['rel'].astype(int)"
      ],
      "execution_count": null,
      "outputs": []
    },
    {
      "cell_type": "code",
      "metadata": {
        "colab": {
          "base_uri": "https://localhost:8080/",
          "height": 204
        },
        "id": "mrCsKUExT4tV",
        "outputId": "f5630c47-8587-4a16-a8cf-ecb1226dd29c"
      },
      "source": [
        "df=pd.read_csv('/content/drive/MyDrive/Dataset/dataset/documents.csv')\n",
        "df.head()"
      ],
      "execution_count": null,
      "outputs": [
        {
          "output_type": "execute_result",
          "data": {
            "text/html": [
              "<div>\n",
              "<style scoped>\n",
              "    .dataframe tbody tr th:only-of-type {\n",
              "        vertical-align: middle;\n",
              "    }\n",
              "\n",
              "    .dataframe tbody tr th {\n",
              "        vertical-align: top;\n",
              "    }\n",
              "\n",
              "    .dataframe thead th {\n",
              "        text-align: right;\n",
              "    }\n",
              "</style>\n",
              "<table border=\"1\" class=\"dataframe\">\n",
              "  <thead>\n",
              "    <tr style=\"text-align: right;\">\n",
              "      <th></th>\n",
              "      <th>docid</th>\n",
              "      <th>author</th>\n",
              "      <th>bibliography</th>\n",
              "      <th>body</th>\n",
              "      <th>title</th>\n",
              "    </tr>\n",
              "  </thead>\n",
              "  <tbody>\n",
              "    <tr>\n",
              "      <th>0</th>\n",
              "      <td>2</td>\n",
              "      <td>ting-yili</td>\n",
              "      <td>department of aeronautical engineering, rensse...</td>\n",
              "      <td>simple shear flow past a flat plate in an inco...</td>\n",
              "      <td>simple shear flow past a flat plate in an inco...</td>\n",
              "    </tr>\n",
              "    <tr>\n",
              "      <th>1</th>\n",
              "      <td>3</td>\n",
              "      <td>m. b. glauert</td>\n",
              "      <td>department of mathematics, university of manch...</td>\n",
              "      <td>the boundary layer in simple shear flow past a...</td>\n",
              "      <td>the boundary layer in simple shear flow past a...</td>\n",
              "    </tr>\n",
              "    <tr>\n",
              "      <th>2</th>\n",
              "      <td>5</td>\n",
              "      <td>wasserman,b.</td>\n",
              "      <td>j. ae. scs. 24, 1957, 924.</td>\n",
              "      <td>one-dimensional transient heat conduction into...</td>\n",
              "      <td>one-dimensional transient heat conduction into...</td>\n",
              "    </tr>\n",
              "    <tr>\n",
              "      <th>3</th>\n",
              "      <td>6</td>\n",
              "      <td>campbell,w.f.</td>\n",
              "      <td>j. ae. scs. 25, 1958, 340.</td>\n",
              "      <td>one-dimensional transient heat flow in a multi...</td>\n",
              "      <td>one-dimensional transient heat flow in a multi...</td>\n",
              "    </tr>\n",
              "    <tr>\n",
              "      <th>4</th>\n",
              "      <td>12</td>\n",
              "      <td>bisplinghoff,r.l.</td>\n",
              "      <td>j. ae. scs. 23, 1956, 289.</td>\n",
              "      <td>some structural and aerelastic considerations ...</td>\n",
              "      <td>some structural and aerelastic considerations ...</td>\n",
              "    </tr>\n",
              "  </tbody>\n",
              "</table>\n",
              "</div>"
            ],
            "text/plain": [
              "   docid  ...                                              title\n",
              "0      2  ...  simple shear flow past a flat plate in an inco...\n",
              "1      3  ...  the boundary layer in simple shear flow past a...\n",
              "2      5  ...  one-dimensional transient heat conduction into...\n",
              "3      6  ...  one-dimensional transient heat flow in a multi...\n",
              "4     12  ...  some structural and aerelastic considerations ...\n",
              "\n",
              "[5 rows x 5 columns]"
            ]
          },
          "metadata": {
            "tags": []
          },
          "execution_count": 8
        }
      ]
    },
    {
      "cell_type": "code",
      "metadata": {
        "id": "u2XKIyVpUCeL"
      },
      "source": [
        "df.drop(['author','bibliography','title'],axis=1,inplace=True)"
      ],
      "execution_count": null,
      "outputs": []
    },
    {
      "cell_type": "code",
      "metadata": {
        "colab": {
          "base_uri": "https://localhost:8080/",
          "height": 137
        },
        "id": "MTFHXExbUN-V",
        "outputId": "01702019-47ec-4e27-e425-d3be4e35dd19"
      },
      "source": [
        "df.body[0]"
      ],
      "execution_count": null,
      "outputs": [
        {
          "output_type": "execute_result",
          "data": {
            "application/vnd.google.colaboratory.intrinsic+json": {
              "type": "string"
            },
            "text/plain": [
              "\"simple shear flow past a flat plate in an incompressible fluid of small viscosity . in the study of high-speed viscous flow past a two-dimensional body it is usually necessary to consider a curved shock wave emitting from the nose or leading edge of the body .  consequently, there exists an inviscid rotational flow region between the shock wave and the boundary layer .  such a situation arises, for instance, in the study of the hypersonic viscous flow past a flat plate .  the situation is somewhat different from prandtl's classical boundary-layer problem . in prandtl's original problem the inviscid free stream outside the boundary layer is irrotational while in a hypersonic boundary-layer problem the inviscid free stream must be considered as rotational .  the possible effects of vorticity have been recently discussed by ferri and libby .  in the present paper, the simple shear flow past a flat plate in a fluid of small viscosity is investigated .  it can be shown that this problem can again be treated by the boundary-layer approximation, the only novel feature being that the free stream has a constant vorticity .  the discussion here is restricted to two-dimensional incompressible steady flow .\""
            ]
          },
          "metadata": {
            "tags": []
          },
          "execution_count": 10
        }
      ]
    },
    {
      "cell_type": "code",
      "metadata": {
        "id": "R4b1imM3UZjS"
      },
      "source": [
        "training_corpus=df[df['docid'].isin(train_top5['docid'].unique())].reset_index(drop=True)"
      ],
      "execution_count": null,
      "outputs": []
    },
    {
      "cell_type": "code",
      "metadata": {
        "colab": {
          "base_uri": "https://localhost:8080/",
          "height": 419
        },
        "id": "tqdjBWaKVMmD",
        "outputId": "9c68d06e-800b-4cec-917b-775cc82d6c54"
      },
      "source": [
        "training_corpus"
      ],
      "execution_count": null,
      "outputs": [
        {
          "output_type": "execute_result",
          "data": {
            "text/html": [
              "<div>\n",
              "<style scoped>\n",
              "    .dataframe tbody tr th:only-of-type {\n",
              "        vertical-align: middle;\n",
              "    }\n",
              "\n",
              "    .dataframe tbody tr th {\n",
              "        vertical-align: top;\n",
              "    }\n",
              "\n",
              "    .dataframe thead th {\n",
              "        text-align: right;\n",
              "    }\n",
              "</style>\n",
              "<table border=\"1\" class=\"dataframe\">\n",
              "  <thead>\n",
              "    <tr style=\"text-align: right;\">\n",
              "      <th></th>\n",
              "      <th>docid</th>\n",
              "      <th>body</th>\n",
              "    </tr>\n",
              "  </thead>\n",
              "  <tbody>\n",
              "    <tr>\n",
              "      <th>0</th>\n",
              "      <td>2</td>\n",
              "      <td>simple shear flow past a flat plate in an inco...</td>\n",
              "    </tr>\n",
              "    <tr>\n",
              "      <th>1</th>\n",
              "      <td>3</td>\n",
              "      <td>the boundary layer in simple shear flow past a...</td>\n",
              "    </tr>\n",
              "    <tr>\n",
              "      <th>2</th>\n",
              "      <td>5</td>\n",
              "      <td>one-dimensional transient heat conduction into...</td>\n",
              "    </tr>\n",
              "    <tr>\n",
              "      <th>3</th>\n",
              "      <td>6</td>\n",
              "      <td>one-dimensional transient heat flow in a multi...</td>\n",
              "    </tr>\n",
              "    <tr>\n",
              "      <th>4</th>\n",
              "      <td>12</td>\n",
              "      <td>some structural and aerelastic considerations ...</td>\n",
              "    </tr>\n",
              "    <tr>\n",
              "      <th>...</th>\n",
              "      <td>...</td>\n",
              "      <td>...</td>\n",
              "    </tr>\n",
              "    <tr>\n",
              "      <th>319</th>\n",
              "      <td>1326</td>\n",
              "      <td>interaction of secondary injectants and rocket...</td>\n",
              "    </tr>\n",
              "    <tr>\n",
              "      <th>320</th>\n",
              "      <td>1355</td>\n",
              "      <td>boundary layer displacement effects in air at ...</td>\n",
              "    </tr>\n",
              "    <tr>\n",
              "      <th>321</th>\n",
              "      <td>1364</td>\n",
              "      <td>an experimental investigation of the interacti...</td>\n",
              "    </tr>\n",
              "    <tr>\n",
              "      <th>322</th>\n",
              "      <td>1378</td>\n",
              "      <td>blunt-cone pressure distributions at hypersoni...</td>\n",
              "    </tr>\n",
              "    <tr>\n",
              "      <th>323</th>\n",
              "      <td>1393</td>\n",
              "      <td>heat transfer near the forward stagnation poin...</td>\n",
              "    </tr>\n",
              "  </tbody>\n",
              "</table>\n",
              "<p>324 rows × 2 columns</p>\n",
              "</div>"
            ],
            "text/plain": [
              "     docid                                               body\n",
              "0        2  simple shear flow past a flat plate in an inco...\n",
              "1        3  the boundary layer in simple shear flow past a...\n",
              "2        5  one-dimensional transient heat conduction into...\n",
              "3        6  one-dimensional transient heat flow in a multi...\n",
              "4       12  some structural and aerelastic considerations ...\n",
              "..     ...                                                ...\n",
              "319   1326  interaction of secondary injectants and rocket...\n",
              "320   1355  boundary layer displacement effects in air at ...\n",
              "321   1364  an experimental investigation of the interacti...\n",
              "322   1378  blunt-cone pressure distributions at hypersoni...\n",
              "323   1393  heat transfer near the forward stagnation poin...\n",
              "\n",
              "[324 rows x 2 columns]"
            ]
          },
          "metadata": {
            "tags": []
          },
          "execution_count": 12
        }
      ]
    },
    {
      "cell_type": "code",
      "metadata": {
        "id": "TonAjW_EVqjI"
      },
      "source": [
        "testing_corpus=df[df['docid'].isin(test_top5['docid'].unique())].reset_index(drop=True)"
      ],
      "execution_count": null,
      "outputs": []
    },
    {
      "cell_type": "code",
      "metadata": {
        "colab": {
          "base_uri": "https://localhost:8080/",
          "height": 419
        },
        "id": "9tFCGj1FVzG1",
        "outputId": "f5656e9c-da2d-40c6-9077-d9965f16862c"
      },
      "source": [
        "testing_corpus"
      ],
      "execution_count": null,
      "outputs": [
        {
          "output_type": "execute_result",
          "data": {
            "text/html": [
              "<div>\n",
              "<style scoped>\n",
              "    .dataframe tbody tr th:only-of-type {\n",
              "        vertical-align: middle;\n",
              "    }\n",
              "\n",
              "    .dataframe tbody tr th {\n",
              "        vertical-align: top;\n",
              "    }\n",
              "\n",
              "    .dataframe thead th {\n",
              "        text-align: right;\n",
              "    }\n",
              "</style>\n",
              "<table border=\"1\" class=\"dataframe\">\n",
              "  <thead>\n",
              "    <tr style=\"text-align: right;\">\n",
              "      <th></th>\n",
              "      <th>docid</th>\n",
              "      <th>body</th>\n",
              "    </tr>\n",
              "  </thead>\n",
              "  <tbody>\n",
              "    <tr>\n",
              "      <th>0</th>\n",
              "      <td>15</td>\n",
              "      <td>on two-dimensional panel flutter .   theory an...</td>\n",
              "    </tr>\n",
              "    <tr>\n",
              "      <th>1</th>\n",
              "      <td>24</td>\n",
              "      <td>theory of stagnation point heat transfer in di...</td>\n",
              "    </tr>\n",
              "    <tr>\n",
              "      <th>2</th>\n",
              "      <td>40</td>\n",
              "      <td>experiments on boundary layer transition at su...</td>\n",
              "    </tr>\n",
              "    <tr>\n",
              "      <th>3</th>\n",
              "      <td>51</td>\n",
              "      <td>theory of aircraft structural models subjected...</td>\n",
              "    </tr>\n",
              "    <tr>\n",
              "      <th>4</th>\n",
              "      <td>58</td>\n",
              "      <td>pressure measurements on sharp and blunt 5 and...</td>\n",
              "    </tr>\n",
              "    <tr>\n",
              "      <th>...</th>\n",
              "      <td>...</td>\n",
              "      <td>...</td>\n",
              "    </tr>\n",
              "    <tr>\n",
              "      <th>82</th>\n",
              "      <td>1393</td>\n",
              "      <td>heat transfer near the forward stagnation poin...</td>\n",
              "    </tr>\n",
              "    <tr>\n",
              "      <th>83</th>\n",
              "      <td>1394</td>\n",
              "      <td>stagnation point heat transfer measurements in...</td>\n",
              "    </tr>\n",
              "    <tr>\n",
              "      <th>84</th>\n",
              "      <td>1395</td>\n",
              "      <td>low density stagnation point heat transfer mea...</td>\n",
              "    </tr>\n",
              "    <tr>\n",
              "      <th>85</th>\n",
              "      <td>1397</td>\n",
              "      <td>critical shear stress of an infinitely long si...</td>\n",
              "    </tr>\n",
              "    <tr>\n",
              "      <th>86</th>\n",
              "      <td>1400</td>\n",
              "      <td>the buckling shear stress of simply-supported ...</td>\n",
              "    </tr>\n",
              "  </tbody>\n",
              "</table>\n",
              "<p>87 rows × 2 columns</p>\n",
              "</div>"
            ],
            "text/plain": [
              "    docid                                               body\n",
              "0      15  on two-dimensional panel flutter .   theory an...\n",
              "1      24  theory of stagnation point heat transfer in di...\n",
              "2      40  experiments on boundary layer transition at su...\n",
              "3      51  theory of aircraft structural models subjected...\n",
              "4      58  pressure measurements on sharp and blunt 5 and...\n",
              "..    ...                                                ...\n",
              "82   1393  heat transfer near the forward stagnation poin...\n",
              "83   1394  stagnation point heat transfer measurements in...\n",
              "84   1395  low density stagnation point heat transfer mea...\n",
              "85   1397  critical shear stress of an infinitely long si...\n",
              "86   1400  the buckling shear stress of simply-supported ...\n",
              "\n",
              "[87 rows x 2 columns]"
            ]
          },
          "metadata": {
            "tags": []
          },
          "execution_count": 14
        }
      ]
    },
    {
      "cell_type": "code",
      "metadata": {
        "colab": {
          "base_uri": "https://localhost:8080/"
        },
        "id": "VYNDxl82WHbY",
        "outputId": "afc1ba37-1d43-4223-e367-1f04421500be"
      },
      "source": [
        "import re\n",
        "import string\n",
        "import nltk\n",
        "from nltk.tokenize import word_tokenize\n",
        "from nltk.corpus import stopwords\n",
        "nltk.download('punkt')\n",
        "nltk.download('stopwords')"
      ],
      "execution_count": null,
      "outputs": [
        {
          "output_type": "stream",
          "text": [
            "[nltk_data] Downloading package punkt to /root/nltk_data...\n",
            "[nltk_data]   Unzipping tokenizers/punkt.zip.\n",
            "[nltk_data] Downloading package stopwords to /root/nltk_data...\n",
            "[nltk_data]   Unzipping corpora/stopwords.zip.\n"
          ],
          "name": "stdout"
        },
        {
          "output_type": "execute_result",
          "data": {
            "text/plain": [
              "True"
            ]
          },
          "metadata": {
            "tags": []
          },
          "execution_count": 15
        }
      ]
    },
    {
      "cell_type": "code",
      "metadata": {
        "id": "gjEjCDl-Wr6k"
      },
      "source": [
        "import spacy\n",
        "nlp=spacy.load('en_core_web_sm')"
      ],
      "execution_count": null,
      "outputs": []
    },
    {
      "cell_type": "code",
      "metadata": {
        "id": "nqJUvGtiV3Ge"
      },
      "source": [
        "  def clean_text(text):\n",
        "    text = text.lower()\n",
        "    \n",
        "    pattern = re.compile('http[s]?://(?:[a-zA-Z]|[0-9]|[$-_@.&+]|[!*\\(\\),]|(?:%[0-9a-fA-F][0-9a-fA-F]))+')\n",
        "    text = pattern.sub('', text)\n",
        "    text = \" \".join(filter(lambda x:x[0]!='@', text.split()))\n",
        "    return text\n",
        "def CleanTokenize(text):\n",
        "    head_lines = list()\n",
        "    lines = text.values.tolist()\n",
        "\n",
        "    for line in lines:\n",
        "        line = clean_text(line)\n",
        "        # tokenize the text\n",
        "        tokens = word_tokenize(line)\n",
        "        # remove puntuations\n",
        "        table = str.maketrans('', '', string.punctuation)\n",
        "        stripped = [w.translate(table) for w in tokens]\n",
        "        # remove non alphabetic characters\n",
        "        words = [word for word in stripped if word.isalpha()]\n",
        "        stop_words = set(stopwords.words(\"english\"))\n",
        "        # remove stop words\n",
        "        words = [w for w in words if not w in stop_words]\n",
        "        words=' '.join(words)\n",
        "        head_lines.append(words)\n",
        "    return head_lines"
      ],
      "execution_count": null,
      "outputs": []
    },
    {
      "cell_type": "code",
      "metadata": {
        "id": "lhsQ5lNYWb40"
      },
      "source": [
        "body=CleanTokenize(training_corpus.body)\n",
        "training_corpus['cleaned']=body"
      ],
      "execution_count": null,
      "outputs": []
    },
    {
      "cell_type": "code",
      "metadata": {
        "id": "C1pxl2_kYL-t"
      },
      "source": [
        "body=CleanTokenize(testing_corpus.body)\n",
        "testing_corpus['cleaned']=body"
      ],
      "execution_count": null,
      "outputs": []
    },
    {
      "cell_type": "code",
      "metadata": {
        "id": "G3viXnGvYQod"
      },
      "source": [
        "queries=CleanTokenize(training_queries['query'])\n",
        "training_queries['cleaned']=queries"
      ],
      "execution_count": null,
      "outputs": []
    },
    {
      "cell_type": "code",
      "metadata": {
        "id": "6xStEj2dYt5Q"
      },
      "source": [
        "queries=CleanTokenize(testing_queries['query'])\n",
        "testing_queries['cleaned']=queries"
      ],
      "execution_count": null,
      "outputs": []
    },
    {
      "cell_type": "code",
      "metadata": {
        "id": "Ng58KwySY2sU"
      },
      "source": [
        "combined_training=pd.concat([training_corpus.rename(columns={'cleaned':'text'})['text'],training_queries.rename(columns={'cleaned':'text'})['text']]).sample(frac=1).reset_index(drop=True)"
      ],
      "execution_count": null,
      "outputs": []
    },
    {
      "cell_type": "code",
      "metadata": {
        "colab": {
          "base_uri": "https://localhost:8080/"
        },
        "id": "AoiZQKgCZXJ3",
        "outputId": "4743f92a-b4b7-4ca7-b35d-52ca32d47a76"
      },
      "source": [
        "combined_training"
      ],
      "execution_count": null,
      "outputs": [
        {
          "output_type": "execute_result",
          "data": {
            "text/plain": [
              "0      approximate solution hypersonic laminar bounda...\n",
              "1      boundary layer flat plate shear flow induce pr...\n",
              "2      dissociation scaling nonequilibrium blunt nose...\n",
              "3      hypersonic strong viscous interaction flat pla...\n",
              "4      experiments tapered sweptback wing warren plan...\n",
              "                             ...                        \n",
              "404    exist good basic treatment dynamics reentry co...\n",
              "405    simplified method elastic stability analysis t...\n",
              "406    tunnel interference effects problems solid blo...\n",
              "407    analytical study tumbling motions vehicles ent...\n",
              "408    analytical experimental investigation stress d...\n",
              "Name: text, Length: 409, dtype: object"
            ]
          },
          "metadata": {
            "tags": []
          },
          "execution_count": 23
        }
      ]
    },
    {
      "cell_type": "markdown",
      "metadata": {
        "id": "WctHEOVBnqCo"
      },
      "source": [
        "# Using W2V model"
      ]
    },
    {
      "cell_type": "code",
      "metadata": {
        "id": "wmKa1XKphKLh"
      },
      "source": [
        "from gensim.models import Word2Vec\n",
        "train_data=[]\n",
        "for i in combined_training:\n",
        "  train_data.append(i.split())\n",
        "w2v_model=Word2Vec(train_data,size=100,window=5,sg=1)"
      ],
      "execution_count": null,
      "outputs": []
    },
    {
      "cell_type": "code",
      "metadata": {
        "colab": {
          "base_uri": "https://localhost:8080/"
        },
        "id": "SWP2c2qXiLWC",
        "outputId": "2527e52f-20c0-4f08-9eb6-b59f1d45b427"
      },
      "source": [
        "len(train_data)"
      ],
      "execution_count": null,
      "outputs": [
        {
          "output_type": "execute_result",
          "data": {
            "text/plain": [
              "409"
            ]
          },
          "metadata": {
            "tags": []
          },
          "execution_count": 26
        }
      ]
    },
    {
      "cell_type": "code",
      "metadata": {
        "colab": {
          "base_uri": "https://localhost:8080/"
        },
        "id": "kWmoSDr7iXBj",
        "outputId": "cd3927b2-53e6-481d-b7f6-5d44b764a97b"
      },
      "source": [
        "print('Vocabulary size is :',len(w2v_model.wv.vocab))"
      ],
      "execution_count": null,
      "outputs": [
        {
          "output_type": "stream",
          "text": [
            "Vocabulary size is : 1193\n"
          ],
          "name": "stdout"
        }
      ]
    },
    {
      "cell_type": "code",
      "metadata": {
        "id": "hHpDJxgMixtM"
      },
      "source": [
        "def get_embedding(tokens):\n",
        "  embeddings=[]\n",
        "  if len(tokens)<1:\n",
        "    return np.zeros(100)\n",
        "  else:\n",
        "    for token in tokens:\n",
        "      if token in w2v_model.wv.vocab:\n",
        "        embeddings.append(w2v_model.wv.word_vec(token))\n",
        "      else:\n",
        "        embeddings.append(np.random.rand(100))\n",
        "    return np.mean(embeddings,axis=0)"
      ],
      "execution_count": null,
      "outputs": []
    },
    {
      "cell_type": "code",
      "metadata": {
        "id": "36OOeAJ4kE77"
      },
      "source": [
        "testing_corpus['vector']=testing_corpus['cleaned'].apply(lambda x: get_embedding(x.split()))\n",
        "testing_queries['vector']=testing_queries['cleaned'].apply(lambda x: get_embedding(x.split()))"
      ],
      "execution_count": null,
      "outputs": []
    },
    {
      "cell_type": "code",
      "metadata": {
        "id": "hpohe6zekzXU"
      },
      "source": [
        "from sklearn.metrics.pairwise import cosine_similarity\n",
        "\n",
        "# Function for calculating average precision for a query\n",
        "def average_precision(qid,qvector):\n",
        "  \n",
        "  # Getting the ground truth and document vectors\n",
        "  qresult=test_top5.loc[test_top5['qid']==qid,['docid','rel']]\n",
        "  qcorpus=testing_corpus.loc[testing_corpus['docid'].isin(qresult['docid']),['docid','vector']]\n",
        "  qresult=pd.merge(qresult,qcorpus,on='docid')\n",
        "  \n",
        "  # Ranking documents for the query\n",
        "  qresult['similarity']=qresult['vector'].apply(lambda x: cosine_similarity(np.array(qvector).reshape(1, -1),np.array(x).reshape(1, -1)).item())\n",
        "  qresult.sort_values(by='similarity',ascending=False,inplace=True)\n",
        "\n",
        "  # Taking Top 10 documents for the evaluation\n",
        "  ranking=qresult.head(10)['rel'].values\n",
        "  \n",
        "  # Calculating precision\n",
        "  precision=[]\n",
        "  for i in range(1,6):\n",
        "    if ranking[i-1]:\n",
        "      precision.append(np.sum(ranking[:i])/i)\n",
        "  \n",
        "  # If no relevant document in list then return 0\n",
        "  if precision==[]:\n",
        "    return 0\n",
        "\n",
        "  return np.mean(precision)"
      ],
      "execution_count": null,
      "outputs": []
    },
    {
      "cell_type": "code",
      "metadata": {
        "colab": {
          "base_uri": "https://localhost:8080/"
        },
        "id": "6uMKBVHLlvrj",
        "outputId": "eb7c15da-52f6-45d3-e01c-f3489845368c"
      },
      "source": [
        "# Calculating average precision for all queries in the test set\n",
        "testing_queries['AP']=testing_queries.apply(lambda x: average_precision(x['qid'],x['vector']),axis=1)\n",
        "\n",
        "# Finding Mean Average Precision\n",
        "print('Mean Average Precision :',testing_queries['AP'].mean())"
      ],
      "execution_count": null,
      "outputs": [
        {
          "output_type": "stream",
          "text": [
            "Mean Average Precision : 0.7434343434343433\n"
          ],
          "name": "stdout"
        }
      ]
    },
    {
      "cell_type": "code",
      "metadata": {
        "id": "daSWl6ykmEkf"
      },
      "source": [
        "def ranking_ir(text):\n",
        "  query=clean_text(text)\n",
        "  vector=get_embedding(query)\n",
        "  document=testing_corpus[['docid','body']].copy()\n",
        "  document['similarity']=testing_corpus['vector'].apply(lambda x: cosine_similarity(np.array(vector).reshape(1,-1),np.array(x).reshape(1,-1)).item())\n",
        "  document.sort_values(by='similarity',ascending=False,inplace=True)\n",
        "  return document.reset_index(drop=True)"
      ],
      "execution_count": null,
      "outputs": []
    },
    {
      "cell_type": "code",
      "metadata": {
        "id": "FvCQHlHnrV0c"
      },
      "source": [
        "text=\"what are the nonequilibrium chemical constituents in the viscous shock layer ahead of a blunt re-entry vehicle .\""
      ],
      "execution_count": null,
      "outputs": []
    },
    {
      "cell_type": "code",
      "metadata": {
        "colab": {
          "base_uri": "https://localhost:8080/",
          "height": 419
        },
        "id": "GjmO95i8q6YB",
        "outputId": "c8595c89-deee-4259-e3f9-cad0187c2ca9"
      },
      "source": [
        "ranking_ir(text)"
      ],
      "execution_count": null,
      "outputs": [
        {
          "output_type": "execute_result",
          "data": {
            "text/html": [
              "<div>\n",
              "<style scoped>\n",
              "    .dataframe tbody tr th:only-of-type {\n",
              "        vertical-align: middle;\n",
              "    }\n",
              "\n",
              "    .dataframe tbody tr th {\n",
              "        vertical-align: top;\n",
              "    }\n",
              "\n",
              "    .dataframe thead th {\n",
              "        text-align: right;\n",
              "    }\n",
              "</style>\n",
              "<table border=\"1\" class=\"dataframe\">\n",
              "  <thead>\n",
              "    <tr style=\"text-align: right;\">\n",
              "      <th></th>\n",
              "      <th>docid</th>\n",
              "      <th>body</th>\n",
              "      <th>similarity</th>\n",
              "    </tr>\n",
              "  </thead>\n",
              "  <tbody>\n",
              "    <tr>\n",
              "      <th>0</th>\n",
              "      <td>1174</td>\n",
              "      <td>general theory of buckling . various aspects o...</td>\n",
              "      <td>0.986623</td>\n",
              "    </tr>\n",
              "    <tr>\n",
              "      <th>1</th>\n",
              "      <td>865</td>\n",
              "      <td>a study of the thermal fatigue behaviour of me...</td>\n",
              "      <td>0.985936</td>\n",
              "    </tr>\n",
              "    <tr>\n",
              "      <th>2</th>\n",
              "      <td>875</td>\n",
              "      <td>models for aeroelastic investigation .   this ...</td>\n",
              "      <td>0.970383</td>\n",
              "    </tr>\n",
              "    <tr>\n",
              "      <th>3</th>\n",
              "      <td>1296</td>\n",
              "      <td>non-equilibrium expansions of air with coupled...</td>\n",
              "      <td>0.968321</td>\n",
              "    </tr>\n",
              "    <tr>\n",
              "      <th>4</th>\n",
              "      <td>869</td>\n",
              "      <td>the calculation of transient temperature in tu...</td>\n",
              "      <td>0.964525</td>\n",
              "    </tr>\n",
              "    <tr>\n",
              "      <th>...</th>\n",
              "      <td>...</td>\n",
              "      <td>...</td>\n",
              "      <td>...</td>\n",
              "    </tr>\n",
              "    <tr>\n",
              "      <th>82</th>\n",
              "      <td>885</td>\n",
              "      <td>buckling of thin cylindrical shells under hoop...</td>\n",
              "      <td>0.534550</td>\n",
              "    </tr>\n",
              "    <tr>\n",
              "      <th>83</th>\n",
              "      <td>887</td>\n",
              "      <td>buckling due to thermal stress of cylindrical ...</td>\n",
              "      <td>0.533257</td>\n",
              "    </tr>\n",
              "    <tr>\n",
              "      <th>84</th>\n",
              "      <td>1393</td>\n",
              "      <td>heat transfer near the forward stagnation poin...</td>\n",
              "      <td>0.484149</td>\n",
              "    </tr>\n",
              "    <tr>\n",
              "      <th>85</th>\n",
              "      <td>1171</td>\n",
              "      <td>the stability under axial compression and late...</td>\n",
              "      <td>0.415034</td>\n",
              "    </tr>\n",
              "    <tr>\n",
              "      <th>86</th>\n",
              "      <td>666</td>\n",
              "      <td>blunt body heat transfer at hypersonic speed a...</td>\n",
              "      <td>0.386651</td>\n",
              "    </tr>\n",
              "  </tbody>\n",
              "</table>\n",
              "<p>87 rows × 3 columns</p>\n",
              "</div>"
            ],
            "text/plain": [
              "    docid                                               body  similarity\n",
              "0    1174  general theory of buckling . various aspects o...    0.986623\n",
              "1     865  a study of the thermal fatigue behaviour of me...    0.985936\n",
              "2     875  models for aeroelastic investigation .   this ...    0.970383\n",
              "3    1296  non-equilibrium expansions of air with coupled...    0.968321\n",
              "4     869  the calculation of transient temperature in tu...    0.964525\n",
              "..    ...                                                ...         ...\n",
              "82    885  buckling of thin cylindrical shells under hoop...    0.534550\n",
              "83    887  buckling due to thermal stress of cylindrical ...    0.533257\n",
              "84   1393  heat transfer near the forward stagnation poin...    0.484149\n",
              "85   1171  the stability under axial compression and late...    0.415034\n",
              "86    666  blunt body heat transfer at hypersonic speed a...    0.386651\n",
              "\n",
              "[87 rows x 3 columns]"
            ]
          },
          "metadata": {
            "tags": []
          },
          "execution_count": 34
        }
      ]
    },
    {
      "cell_type": "markdown",
      "metadata": {
        "id": "7nAWHO-qoD1t"
      },
      "source": [
        "# Using ELMo embeddings"
      ]
    },
    {
      "cell_type": "code",
      "metadata": {
        "colab": {
          "base_uri": "https://localhost:8080/"
        },
        "id": "vKlcR1r3oKXV",
        "outputId": "94c89e1e-77a6-477b-ac38-a59dd7b19c6f"
      },
      "source": [
        "!pip install 'tensorflow == 1.15.0'"
      ],
      "execution_count": null,
      "outputs": [
        {
          "output_type": "stream",
          "text": [
            "Collecting tensorflow==1.15.0\n",
            "\u001b[?25l  Downloading https://files.pythonhosted.org/packages/92/2b/e3af15221da9ff323521565fa3324b0d7c7c5b1d7a8ca66984c8d59cb0ce/tensorflow-1.15.0-cp37-cp37m-manylinux2010_x86_64.whl (412.3MB)\n",
            "\u001b[K     |██████████████████████          | 284.8MB 1.5MB/s eta 0:01:23\u001b[31mERROR: Exception:\n",
            "Traceback (most recent call last):\n",
            "  File \"/usr/local/lib/python3.7/dist-packages/pip/_internal/cli/base_command.py\", line 153, in _main\n",
            "    status = self.run(options, args)\n",
            "  File \"/usr/local/lib/python3.7/dist-packages/pip/_internal/commands/install.py\", line 382, in run\n",
            "    resolver.resolve(requirement_set)\n",
            "  File \"/usr/local/lib/python3.7/dist-packages/pip/_internal/legacy_resolve.py\", line 201, in resolve\n",
            "    self._resolve_one(requirement_set, req)\n",
            "  File \"/usr/local/lib/python3.7/dist-packages/pip/_internal/legacy_resolve.py\", line 365, in _resolve_one\n",
            "    abstract_dist = self._get_abstract_dist_for(req_to_install)\n",
            "  File \"/usr/local/lib/python3.7/dist-packages/pip/_internal/legacy_resolve.py\", line 313, in _get_abstract_dist_for\n",
            "    req, self.session, self.finder, self.require_hashes\n",
            "  File \"/usr/local/lib/python3.7/dist-packages/pip/_internal/operations/prepare.py\", line 194, in prepare_linked_requirement\n",
            "    progress_bar=self.progress_bar\n",
            "  File \"/usr/local/lib/python3.7/dist-packages/pip/_internal/download.py\", line 465, in unpack_url\n",
            "    progress_bar=progress_bar\n",
            "  File \"/usr/local/lib/python3.7/dist-packages/pip/_internal/download.py\", line 316, in unpack_http_url\n",
            "    progress_bar)\n",
            "  File \"/usr/local/lib/python3.7/dist-packages/pip/_internal/download.py\", line 551, in _download_http_url\n",
            "    _download_url(resp, link, content_file, hashes, progress_bar)\n",
            "  File \"/usr/local/lib/python3.7/dist-packages/pip/_internal/download.py\", line 253, in _download_url\n",
            "    hashes.check_against_chunks(downloaded_chunks)\n",
            "  File \"/usr/local/lib/python3.7/dist-packages/pip/_internal/utils/hashes.py\", line 80, in check_against_chunks\n",
            "    for chunk in chunks:\n",
            "  File \"/usr/local/lib/python3.7/dist-packages/pip/_internal/download.py\", line 223, in written_chunks\n",
            "    for chunk in chunks:\n",
            "  File \"/usr/local/lib/python3.7/dist-packages/pip/_internal/utils/ui.py\", line 162, in iter\n",
            "    self.next(n)\n",
            "  File \"/usr/local/lib/python3.7/dist-packages/pip/_vendor/progress/__init__.py\", line 120, in next\n",
            "    self.update()\n",
            "  File \"/usr/local/lib/python3.7/dist-packages/pip/_vendor/progress/bar.py\", line 83, in update\n",
            "    self.writeln(line)\n",
            "  File \"/usr/local/lib/python3.7/dist-packages/pip/_vendor/progress/__init__.py\", line 101, in writeln\n",
            "    self.clearln()\n",
            "  File \"/usr/local/lib/python3.7/dist-packages/pip/_vendor/progress/__init__.py\", line 90, in clearln\n",
            "    print('\\r\\x1b[K', end='', file=self.file)\n",
            "  File \"/usr/local/lib/python3.7/dist-packages/pip/_internal/utils/ui.py\", line 118, in handle_sigint\n",
            "    self.finish()\n",
            "  File \"/usr/local/lib/python3.7/dist-packages/pip/_internal/utils/ui.py\", line 108, in finish\n",
            "    super(InterruptibleMixin, self).finish()\n",
            "  File \"/usr/local/lib/python3.7/dist-packages/pip/_vendor/progress/__init__.py\", line 107, in finish\n",
            "    print(file=self.file)\n",
            "RuntimeError: reentrant call inside <_io.BufferedWriter name='<stdout>'>\u001b[0m\n",
            "\u001b[K"
          ],
          "name": "stdout"
        }
      ]
    },
    {
      "cell_type": "code",
      "metadata": {
        "id": "qc144LO2og0q"
      },
      "source": [
        "import tensorflow_hub as hub\n",
        "import tensorflow as tf"
      ],
      "execution_count": null,
      "outputs": []
    },
    {
      "cell_type": "code",
      "metadata": {
        "colab": {
          "base_uri": "https://localhost:8080/",
          "height": 35
        },
        "id": "bR670CaWo_xp",
        "outputId": "3129011c-5e56-42d7-b83f-d0f137975626"
      },
      "source": [
        "tf.__version__"
      ],
      "execution_count": null,
      "outputs": [
        {
          "output_type": "execute_result",
          "data": {
            "application/vnd.google.colaboratory.intrinsic+json": {
              "type": "string"
            },
            "text/plain": [
              "'2.4.1'"
            ]
          },
          "metadata": {
            "tags": []
          },
          "execution_count": 3
        }
      ]
    },
    {
      "cell_type": "code",
      "metadata": {
        "id": "by3fDK3ypCJe"
      },
      "source": [
        "elmo = hub.Module(\"https://tfhub.dev/google/elmo/2\", trainable=True)\n",
        "def elmo_vectors(x):\n",
        "  embeddings = elmo(x.tolist(), signature=\"default\", as_dict=True)[\"elmo\"]\n",
        "\n",
        "  with tf.Session() as sess:\n",
        "    sess.run(tf.global_variables_initializer())\n",
        "    sess.run(tf.tables_initializer())\n",
        "    # return average of ELMo features\n",
        "    return sess.run(tf.reduce_mean(embeddings,1))"
      ],
      "execution_count": null,
      "outputs": []
    },
    {
      "cell_type": "code",
      "metadata": {
        "id": "5QxdJ4IUpiki"
      },
      "source": [
        "list_train = [testing_corpus[i:i+50] for i in range(0,testing_corpus.shape[0],50)]\n",
        "elmo_train = [elmo_vectors(x['cleaned']) for x in list_train]\n",
        "elmo_train_new = np.concatenate(elmo_train, axis = 0)"
      ],
      "execution_count": null,
      "outputs": []
    },
    {
      "cell_type": "code",
      "metadata": {
        "id": "dqKnIl2QqUhv"
      },
      "source": [
        "elmo_test = elmo_vectors(testing_queries['cleaned'])"
      ],
      "execution_count": null,
      "outputs": []
    },
    {
      "cell_type": "code",
      "metadata": {
        "id": "PsFTHwbiqWkc"
      },
      "source": [
        "testing_queries['vector']=elmo_test.tolist()\n",
        "testing_corpus['vector']=elmo_train_new.tolist()"
      ],
      "execution_count": null,
      "outputs": []
    },
    {
      "cell_type": "code",
      "metadata": {
        "id": "a_97ccAKqjnF"
      },
      "source": [
        "testing_queries['AP']=testing_queries.apply(lambda x: average_precision(x['qid'],x['vector']),axis=1)\n",
        "print('Mean Average Precision :',testing_queries['AP'].mean())"
      ],
      "execution_count": null,
      "outputs": []
    },
    {
      "cell_type": "code",
      "metadata": {
        "id": "XQx4SoM8qrRN"
      },
      "source": [
        "def embed_elmo2(module):\n",
        "    with tf.Graph().as_default():\n",
        "        sentences = tf.placeholder(tf.string)\n",
        "        embed = hub.Module(module)\n",
        "        embeddings = embed(sentences)\n",
        "        session = tf.train.MonitoredSession()\n",
        "    return lambda x: session.run(embeddings, {sentences: x})\n",
        "embed_fn = embed_elmo2(\"https://tfhub.dev/google/elmo/2\")"
      ],
      "execution_count": null,
      "outputs": []
    },
    {
      "cell_type": "code",
      "metadata": {
        "id": "WsQl1HM1qzCU"
      },
      "source": [
        "def ranking_ir_elmo(text):\n",
        "  query=clean_text(text)\n",
        "  vector=embed_fn([query])\n",
        "  document=testing_corpus[['docid','body']].copy()\n",
        "  document['similarity']=testing_corpus['vector'].apply(lambda x: cosine_similarity(np.array(vector).reshape(1,-1),np.array(x).reshape(1,-1)).item())\n",
        "  document.sort_values(by='similarity',ascending=False,inplace=True)\n",
        "  return document.reset_index(drop=True)"
      ],
      "execution_count": null,
      "outputs": []
    },
    {
      "cell_type": "code",
      "metadata": {
        "id": "LnloKCDpq2yb"
      },
      "source": [
        "text=\"what are the nonequilibrium chemical constituents in the viscous shock layer ahead of a blunt re-entry vehicle .\"\n",
        "ranking_ir_elmo(text)"
      ],
      "execution_count": null,
      "outputs": []
    }
  ]
}