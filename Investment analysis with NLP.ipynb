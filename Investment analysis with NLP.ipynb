{
 "cells": [
  {
   "cell_type": "markdown",
   "metadata": {},
   "source": [
    "## Sentiment analysis in Finance involves quantifying and exploiting ‘sentiment’ /‘emotions’ for investment.\n",
    "\n",
    "## 5 Steps of Sentiment Analysis Process for Investment\n",
    "Conducting Sentiment Analysis involves:\n",
    "1. Creating a testable hypothesis\n",
    "2. Extracting relevant data (i.e., a ‘corpus’)\n",
    "3. Cleaning the text data.\n",
    "4. Estimating the sentiment measure(s).\n",
    "5. Testing / validating the hypothesis.\n",
    "\n",
    "**In this case** testable hypothesis is - \n",
    "### Returns of firms with stronger net positive tone are statistically greater compared to the returns of firms with weaker net positive tone.\n",
    "\n",
    "**H0**: Returns of firms with stronger net positive tone have not statistically greater than the returns of firms with weaker net positive tone.\n",
    "\n",
    "**H1**: Returns of firms with stronger net positive tone are statistically greater than the returns of firms with weaker net positive tone."
   ]
  },
  {
   "cell_type": "code",
   "execution_count": null,
   "metadata": {},
   "outputs": [],
   "source": []
  },
  {
   "cell_type": "markdown",
   "metadata": {},
   "source": [
    "### Relevant Data\n",
    "\n",
    "Testing this particular hypothesis requires 2 sets of data:\n",
    "\n",
    "**Returns data (obtained from stock prices)**\n",
    "\n",
    "**Tone data (obtained by estimating tone/sentiment using words from a corpus)**"
   ]
  },
  {
   "cell_type": "markdown",
   "metadata": {},
   "source": [
    "## Exploring Stock Price & Returns Data\n",
    "\n",
    "Here the dataset is a \"large\" stock price data (daily observations of 99 stocks over approximately 13 years ~ 320,000 observations).\n",
    "\n",
    "\n",
    "The return on a stock $j$ is calculated as...\n",
    "$$r_j = \\frac{P_t - P_{t-1}}{P_{t-1}} \\equiv \\frac{P_t}{P_{t-1}}-1$$\n",
    "\n",
    "Where:  \n",
    "$r_j = $ Return on a stock $j$ at time $t$  \n",
    "$P_t = $ Price of stock $j$ at time $t$  \n",
    "$P_{t-1} = $ Price of stock $j$ at time $t-1$"
   ]
  },
  {
   "cell_type": "code",
   "execution_count": 1,
   "metadata": {},
   "outputs": [],
   "source": [
    "import pandas as pd\n",
    "import numpy as np\n",
    "import matplotlib.pyplot as plt\n",
    "import seaborn as sns\n",
    "sns.set()"
   ]
  },
  {
   "cell_type": "code",
   "execution_count": 2,
   "metadata": {},
   "outputs": [
    {
     "data": {
      "text/html": [
       "<div>\n",
       "<style scoped>\n",
       "    .dataframe tbody tr th:only-of-type {\n",
       "        vertical-align: middle;\n",
       "    }\n",
       "\n",
       "    .dataframe tbody tr th {\n",
       "        vertical-align: top;\n",
       "    }\n",
       "\n",
       "    .dataframe thead th {\n",
       "        text-align: right;\n",
       "    }\n",
       "</style>\n",
       "<table border=\"1\" class=\"dataframe\">\n",
       "  <thead>\n",
       "    <tr style=\"text-align: right;\">\n",
       "      <th></th>\n",
       "      <th>ticker</th>\n",
       "      <th>date</th>\n",
       "      <th>price</th>\n",
       "    </tr>\n",
       "  </thead>\n",
       "  <tbody>\n",
       "    <tr>\n",
       "      <th>0</th>\n",
       "      <td>CNP</td>\n",
       "      <td>2005-01-03</td>\n",
       "      <td>8.4000</td>\n",
       "    </tr>\n",
       "    <tr>\n",
       "      <th>1</th>\n",
       "      <td>CNP</td>\n",
       "      <td>2005-01-04</td>\n",
       "      <td>8.3168</td>\n",
       "    </tr>\n",
       "    <tr>\n",
       "      <th>2</th>\n",
       "      <td>CNP</td>\n",
       "      <td>2005-01-05</td>\n",
       "      <td>8.1662</td>\n",
       "    </tr>\n",
       "    <tr>\n",
       "      <th>3</th>\n",
       "      <td>CNP</td>\n",
       "      <td>2005-01-06</td>\n",
       "      <td>8.1730</td>\n",
       "    </tr>\n",
       "    <tr>\n",
       "      <th>4</th>\n",
       "      <td>CNP</td>\n",
       "      <td>2005-01-07</td>\n",
       "      <td>8.1277</td>\n",
       "    </tr>\n",
       "    <tr>\n",
       "      <th>...</th>\n",
       "      <td>...</td>\n",
       "      <td>...</td>\n",
       "      <td>...</td>\n",
       "    </tr>\n",
       "    <tr>\n",
       "      <th>320656</th>\n",
       "      <td>HPQ</td>\n",
       "      <td>2017-11-06</td>\n",
       "      <td>21.4400</td>\n",
       "    </tr>\n",
       "    <tr>\n",
       "      <th>320657</th>\n",
       "      <td>HPQ</td>\n",
       "      <td>2017-11-07</td>\n",
       "      <td>21.3800</td>\n",
       "    </tr>\n",
       "    <tr>\n",
       "      <th>320658</th>\n",
       "      <td>HPQ</td>\n",
       "      <td>2017-11-08</td>\n",
       "      <td>21.4200</td>\n",
       "    </tr>\n",
       "    <tr>\n",
       "      <th>320659</th>\n",
       "      <td>HPQ</td>\n",
       "      <td>2017-11-09</td>\n",
       "      <td>21.3400</td>\n",
       "    </tr>\n",
       "    <tr>\n",
       "      <th>320660</th>\n",
       "      <td>HPQ</td>\n",
       "      <td>2017-11-10</td>\n",
       "      <td>21.2300</td>\n",
       "    </tr>\n",
       "  </tbody>\n",
       "</table>\n",
       "<p>320661 rows × 3 columns</p>\n",
       "</div>"
      ],
      "text/plain": [
       "       ticker        date    price\n",
       "0         CNP  2005-01-03   8.4000\n",
       "1         CNP  2005-01-04   8.3168\n",
       "2         CNP  2005-01-05   8.1662\n",
       "3         CNP  2005-01-06   8.1730\n",
       "4         CNP  2005-01-07   8.1277\n",
       "...       ...         ...      ...\n",
       "320656    HPQ  2017-11-06  21.4400\n",
       "320657    HPQ  2017-11-07  21.3800\n",
       "320658    HPQ  2017-11-08  21.4200\n",
       "320659    HPQ  2017-11-09  21.3400\n",
       "320660    HPQ  2017-11-10  21.2300\n",
       "\n",
       "[320661 rows x 3 columns]"
      ]
     },
     "execution_count": 2,
     "metadata": {},
     "output_type": "execute_result"
    }
   ],
   "source": [
    "df = pd.read_csv('data/stock_prices.csv')\n",
    "df"
   ]
  },
  {
   "cell_type": "code",
   "execution_count": 6,
   "metadata": {},
   "outputs": [
    {
     "name": "stdout",
     "output_type": "stream",
     "text": [
      "<class 'pandas.core.frame.DataFrame'>\n",
      "RangeIndex: 320661 entries, 0 to 320660\n",
      "Data columns (total 3 columns):\n",
      " #   Column  Non-Null Count   Dtype  \n",
      "---  ------  --------------   -----  \n",
      " 0   ticker  320661 non-null  object \n",
      " 1   date    320661 non-null  object \n",
      " 2   price   302651 non-null  float64\n",
      "dtypes: float64(1), object(2)\n",
      "memory usage: 7.3+ MB\n"
     ]
    }
   ],
   "source": [
    "df.info()"
   ]
  },
  {
   "cell_type": "code",
   "execution_count": 3,
   "metadata": {},
   "outputs": [],
   "source": [
    "# conterting date format\n",
    "\n",
    "df.date=pd.to_datetime(df.date)"
   ]
  },
  {
   "cell_type": "code",
   "execution_count": 4,
   "metadata": {},
   "outputs": [],
   "source": [
    "# calculating returns for individual firms\n",
    "\n",
    "df['returns'] = df.groupby('ticker')['price'].pct_change(1)"
   ]
  },
  {
   "cell_type": "code",
   "execution_count": 9,
   "metadata": {},
   "outputs": [
    {
     "data": {
      "text/plain": [
       "<AxesSubplot:>"
      ]
     },
     "execution_count": 9,
     "metadata": {},
     "output_type": "execute_result"
    },
    {
     "data": {
      "image/png": "[encoded data removed]",
      "text/plain": [
       "<Figure size 864x576 with 1 Axes>"
      ]
     },
     "metadata": {},
     "output_type": "display_data"
    }
   ],
   "source": [
    "df[df['ticker'] == 'CNP']['returns'].plot(figsize=(12, 8))"
   ]
  },
  {
   "cell_type": "code",
   "execution_count": 10,
   "metadata": {},
   "outputs": [
    {
     "data": {
      "text/plain": [
       "<AxesSubplot:>"
      ]
     },
     "execution_count": 10,
     "metadata": {},
     "output_type": "execute_result"
    },
    {
     "data": {
      "image/png": "[encoded data removed]",
      "text/plain": [
       "<Figure size 864x576 with 1 Axes>"
      ]
     },
     "metadata": {},
     "output_type": "display_data"
    }
   ],
   "source": [
    "df[df['ticker'] == 'AKAM']['returns'].plot(figsize=(12, 8))"
   ]
  },
  {
   "cell_type": "markdown",
   "metadata": {},
   "source": [
    "## Find that every firm has giving different return percetages"
   ]
  },
  {
   "cell_type": "code",
   "execution_count": null,
   "metadata": {},
   "outputs": [],
   "source": []
  },
  {
   "cell_type": "markdown",
   "metadata": {},
   "source": [
    "# Working with text data"
   ]
  },
  {
   "cell_type": "markdown",
   "metadata": {},
   "source": [
    "## Estimating Sentiment\n",
    "There are broadly 2 ways of estimating sentiment:\n",
    "\n",
    "**Lexicon / Dictionary based approach**\n",
    "\n",
    "**Machine learning approach**\n",
    "\n",
    "As we do not have a good amount of sentiment data in the domain of Finance (others domain like social media, telecom industry etc have already large amount of data for doing sentiment analysis), I will use Lexicaon based approch here."
   ]
  },
  {
   "cell_type": "markdown",
   "metadata": {},
   "source": [
    "Here sentiment is estimated using the proportional counts approach as...\n",
    "$$\\phi_{s_{jt}} = \\frac{\\sum1_{\\mathcal{w}^*_{\\mathcal{d}_\\mathcal{jt}}\\in\\psi_s}}{\\sum\\mathcal{w}^*_{\\mathcal{d}_\\mathcal{jt}}}$$\n",
    "\n",
    "Where:  \n",
    "$\\phi_{s_{jt}} = $ $s$ Sentiment estimate for firm $j$ at time $t$  \n",
    "$\\sum1_{\\mathcal{w}^*_{\\mathcal{d}_\\mathcal{jt}}\\in\\psi_s} = $ Total number of cleaned words in a document of firm $j$ at time $t$ which belong to the sentiment language $s$  \n",
    "$\\sum\\mathcal{w}^*_{\\mathcal{d}_\\mathcal{jt}} = $ Total number of cleaned words in the document for firm $j$ at time $t$\n",
    "\n",
    "Net Positive Tone can be estimated as...\n",
    "$$\\phi_{NPT} = \\frac{\\phi_{pos_{jt}} - \\phi_{neg_{jt}}}{\\phi_{pos_{jt}} + \\phi_{neg_{jt}}}$$"
   ]
  },
  {
   "cell_type": "code",
   "execution_count": 5,
   "metadata": {},
   "outputs": [],
   "source": [
    "import os\n",
    "from nltk.corpus import stopwords\n",
    "from nltk.corpus import opinion_lexicon"
   ]
  },
  {
   "cell_type": "code",
   "execution_count": 6,
   "metadata": {},
   "outputs": [],
   "source": [
    "# importing text data\n",
    "\n",
    "MDA_FILES = os.listdir(\"data/mda/\")\n",
    "MDA_FILES = [file for file in MDA_FILES if file != \".DS_Store\"]"
   ]
  },
  {
   "cell_type": "code",
   "execution_count": 8,
   "metadata": {},
   "outputs": [],
   "source": [
    "# function for cleaning text for analysis\n",
    "\n",
    "def clean_my_text(mda_file):\n",
    "    stopwords_nltk = set(stopwords.words('english'))\n",
    "\n",
    "    with open(mda_file) as file:\n",
    "        mda_text = file.read()\n",
    "    \n",
    "    words = mda_text.split()\n",
    "    cleaned_words = [word.lower() for word in words if word.isalpha()]\n",
    "    cleaned_words = [word for word in cleaned_words if word not in stopwords_nltk]\n",
    "    \n",
    "    return cleaned_words"
   ]
  },
  {
   "cell_type": "code",
   "execution_count": 14,
   "metadata": {},
   "outputs": [],
   "source": [
    "# Get positive and negative lexicons / dictionaries from opinion_lexicon\n",
    "\n",
    "positive_lexicon = set(opinion_lexicon.positive())\n",
    "negative_lexicon = set(opinion_lexicon.negative())"
   ]
  },
  {
   "cell_type": "code",
   "execution_count": 15,
   "metadata": {},
   "outputs": [],
   "source": [
    "# Estimate sentiment for all the the firms from the texts\n",
    "\n",
    "\n",
    "sentiment_scores = {}\n",
    "\n",
    "for file in MDA_FILES:\n",
    "    \n",
    "    cleaned_words = clean_my_text(f\"data/mda/{file}\")\n",
    "    positive_sentiment = 0\n",
    "    negative_sentiment = 0\n",
    "    \n",
    "    # Only consider files with more than 100 cleaned words\n",
    "    if len(cleaned_words) >= 100:\n",
    "        for word in cleaned_words:\n",
    "            if word in positive_lexicon:\n",
    "                positive_sentiment += 1\n",
    "            elif word in negative_lexicon:\n",
    "                negative_sentiment += 1\n",
    "        \n",
    "        # Estimate sentiment using proportional counts approach\n",
    "        phi_pos = positive_sentiment / len(cleaned_words)\n",
    "        phi_neg = negative_sentiment / len(cleaned_words)\n",
    "\n",
    "        phi_npt = (phi_pos - phi_neg) / (phi_pos + phi_neg)\n",
    "\n",
    "        sentiment_scores[file] = [phi_pos, phi_neg, phi_npt, len(cleaned_words)]\n",
    "    \n",
    "    else: \n",
    "        pass\n"
   ]
  },
  {
   "cell_type": "code",
   "execution_count": 16,
   "metadata": {},
   "outputs": [
    {
     "data": {
      "text/html": [
       "<div>\n",
       "<style scoped>\n",
       "    .dataframe tbody tr th:only-of-type {\n",
       "        vertical-align: middle;\n",
       "    }\n",
       "\n",
       "    .dataframe tbody tr th {\n",
       "        vertical-align: top;\n",
       "    }\n",
       "\n",
       "    .dataframe thead th {\n",
       "        text-align: right;\n",
       "    }\n",
       "</style>\n",
       "<table border=\"1\" class=\"dataframe\">\n",
       "  <thead>\n",
       "    <tr style=\"text-align: right;\">\n",
       "      <th></th>\n",
       "      <th>file_name</th>\n",
       "      <th>phi_pos</th>\n",
       "      <th>phi_neg</th>\n",
       "      <th>phi_npt</th>\n",
       "      <th>num_cleaned_words</th>\n",
       "    </tr>\n",
       "  </thead>\n",
       "  <tbody>\n",
       "    <tr>\n",
       "      <th>0</th>\n",
       "      <td>1001082_MDA_2005-03-16.txt</td>\n",
       "      <td>0.045113</td>\n",
       "      <td>0.041353</td>\n",
       "      <td>0.043478</td>\n",
       "      <td>798.0</td>\n",
       "    </tr>\n",
       "    <tr>\n",
       "      <th>1</th>\n",
       "      <td>1001082_MDA_2006-03-15.txt</td>\n",
       "      <td>0.055931</td>\n",
       "      <td>0.045323</td>\n",
       "      <td>0.104762</td>\n",
       "      <td>1037.0</td>\n",
       "    </tr>\n",
       "    <tr>\n",
       "      <th>2</th>\n",
       "      <td>1001082_MDA_2007-03-01.txt</td>\n",
       "      <td>0.035032</td>\n",
       "      <td>0.009554</td>\n",
       "      <td>0.571429</td>\n",
       "      <td>314.0</td>\n",
       "    </tr>\n",
       "    <tr>\n",
       "      <th>3</th>\n",
       "      <td>1001082_MDA_2008-02-26.txt</td>\n",
       "      <td>0.058747</td>\n",
       "      <td>0.054830</td>\n",
       "      <td>0.034483</td>\n",
       "      <td>766.0</td>\n",
       "    </tr>\n",
       "    <tr>\n",
       "      <th>4</th>\n",
       "      <td>1001082_MDA_2009-03-02.txt</td>\n",
       "      <td>0.054920</td>\n",
       "      <td>0.043478</td>\n",
       "      <td>0.116279</td>\n",
       "      <td>437.0</td>\n",
       "    </tr>\n",
       "    <tr>\n",
       "      <th>...</th>\n",
       "      <td>...</td>\n",
       "      <td>...</td>\n",
       "      <td>...</td>\n",
       "      <td>...</td>\n",
       "      <td>...</td>\n",
       "    </tr>\n",
       "    <tr>\n",
       "      <th>1112</th>\n",
       "      <td>98246_MDA_2015-03-20.txt</td>\n",
       "      <td>0.043050</td>\n",
       "      <td>0.017632</td>\n",
       "      <td>0.418868</td>\n",
       "      <td>4367.0</td>\n",
       "    </tr>\n",
       "    <tr>\n",
       "      <th>1113</th>\n",
       "      <td>98246_MDA_2016-03-28.txt</td>\n",
       "      <td>0.038282</td>\n",
       "      <td>0.017489</td>\n",
       "      <td>0.372822</td>\n",
       "      <td>5146.0</td>\n",
       "    </tr>\n",
       "    <tr>\n",
       "      <th>1114</th>\n",
       "      <td>98246_MDA_2017-03-17.txt</td>\n",
       "      <td>0.042514</td>\n",
       "      <td>0.017528</td>\n",
       "      <td>0.416149</td>\n",
       "      <td>5363.0</td>\n",
       "    </tr>\n",
       "    <tr>\n",
       "      <th>1115</th>\n",
       "      <td>98246_MDA_2018-03-16.txt</td>\n",
       "      <td>0.043184</td>\n",
       "      <td>0.014822</td>\n",
       "      <td>0.488959</td>\n",
       "      <td>5465.0</td>\n",
       "    </tr>\n",
       "    <tr>\n",
       "      <th>1116</th>\n",
       "      <td>98246_MDA_2019-03-22.txt</td>\n",
       "      <td>0.041585</td>\n",
       "      <td>0.012690</td>\n",
       "      <td>0.532374</td>\n",
       "      <td>5122.0</td>\n",
       "    </tr>\n",
       "  </tbody>\n",
       "</table>\n",
       "<p>1117 rows × 5 columns</p>\n",
       "</div>"
      ],
      "text/plain": [
       "                       file_name   phi_pos   phi_neg   phi_npt  \\\n",
       "0     1001082_MDA_2005-03-16.txt  0.045113  0.041353  0.043478   \n",
       "1     1001082_MDA_2006-03-15.txt  0.055931  0.045323  0.104762   \n",
       "2     1001082_MDA_2007-03-01.txt  0.035032  0.009554  0.571429   \n",
       "3     1001082_MDA_2008-02-26.txt  0.058747  0.054830  0.034483   \n",
       "4     1001082_MDA_2009-03-02.txt  0.054920  0.043478  0.116279   \n",
       "...                          ...       ...       ...       ...   \n",
       "1112    98246_MDA_2015-03-20.txt  0.043050  0.017632  0.418868   \n",
       "1113    98246_MDA_2016-03-28.txt  0.038282  0.017489  0.372822   \n",
       "1114    98246_MDA_2017-03-17.txt  0.042514  0.017528  0.416149   \n",
       "1115    98246_MDA_2018-03-16.txt  0.043184  0.014822  0.488959   \n",
       "1116    98246_MDA_2019-03-22.txt  0.041585  0.012690  0.532374   \n",
       "\n",
       "      num_cleaned_words  \n",
       "0                 798.0  \n",
       "1                1037.0  \n",
       "2                 314.0  \n",
       "3                 766.0  \n",
       "4                 437.0  \n",
       "...                 ...  \n",
       "1112             4367.0  \n",
       "1113             5146.0  \n",
       "1114             5363.0  \n",
       "1115             5465.0  \n",
       "1116             5122.0  \n",
       "\n",
       "[1117 rows x 5 columns]"
      ]
     },
     "execution_count": 16,
     "metadata": {},
     "output_type": "execute_result"
    }
   ],
   "source": [
    "df_scores = pd.DataFrame(sentiment_scores).T\n",
    "df_scores.reset_index(inplace=True)\n",
    "df_scores.columns = ['file_name', 'phi_pos', 'phi_neg', 'phi_npt', 'num_cleaned_words']\n",
    "df_scores"
   ]
  },
  {
   "cell_type": "code",
   "execution_count": 17,
   "metadata": {},
   "outputs": [
    {
     "data": {
      "text/plain": [
       "<AxesSubplot:>"
      ]
     },
     "execution_count": 17,
     "metadata": {},
     "output_type": "execute_result"
    },
    {
     "data": {
      "image/png": "[encoded data removed]",
      "text/plain": [
       "<Figure size 864x576 with 1 Axes>"
      ]
     },
     "metadata": {},
     "output_type": "display_data"
    }
   ],
   "source": [
    "# Explore values of net positive tone across all documents\n",
    "\n",
    "df_scores['phi_npt'].hist(figsize=(12, 8), bins=100)"
   ]
  },
  {
   "cell_type": "markdown",
   "metadata": {},
   "source": [
    "#### Found that the Positive tone is lying in the renge from -0.5 to 0.9"
   ]
  },
  {
   "cell_type": "code",
   "execution_count": null,
   "metadata": {},
   "outputs": [],
   "source": []
  },
  {
   "cell_type": "markdown",
   "metadata": {},
   "source": [
    "### Now time for merging the required data in a single frame for testing the hypostheis"
   ]
  },
  {
   "cell_type": "code",
   "execution_count": 19,
   "metadata": {},
   "outputs": [],
   "source": [
    "df_returns = pd.read_csv(\"data/stock_prices_returns.csv\")\n",
    "df_scores = pd.read_csv(\"data/sentiment_scores.csv\")\n",
    "df_crosswalk = pd.read_csv(\"data/sp500_constituents.csv\")"
   ]
  },
  {
   "cell_type": "code",
   "execution_count": 20,
   "metadata": {},
   "outputs": [
    {
     "data": {
      "text/html": [
       "<div>\n",
       "<style scoped>\n",
       "    .dataframe tbody tr th:only-of-type {\n",
       "        vertical-align: middle;\n",
       "    }\n",
       "\n",
       "    .dataframe tbody tr th {\n",
       "        vertical-align: top;\n",
       "    }\n",
       "\n",
       "    .dataframe thead th {\n",
       "        text-align: right;\n",
       "    }\n",
       "</style>\n",
       "<table border=\"1\" class=\"dataframe\">\n",
       "  <thead>\n",
       "    <tr style=\"text-align: right;\">\n",
       "      <th></th>\n",
       "      <th>ticker</th>\n",
       "      <th>date</th>\n",
       "      <th>price</th>\n",
       "      <th>returns</th>\n",
       "    </tr>\n",
       "  </thead>\n",
       "  <tbody>\n",
       "    <tr>\n",
       "      <th>0</th>\n",
       "      <td>CNP</td>\n",
       "      <td>2005-01-03</td>\n",
       "      <td>8.4000</td>\n",
       "      <td>NaN</td>\n",
       "    </tr>\n",
       "    <tr>\n",
       "      <th>1</th>\n",
       "      <td>CNP</td>\n",
       "      <td>2005-01-04</td>\n",
       "      <td>8.3168</td>\n",
       "      <td>-0.009905</td>\n",
       "    </tr>\n",
       "    <tr>\n",
       "      <th>2</th>\n",
       "      <td>CNP</td>\n",
       "      <td>2005-01-05</td>\n",
       "      <td>8.1662</td>\n",
       "      <td>-0.018108</td>\n",
       "    </tr>\n",
       "    <tr>\n",
       "      <th>3</th>\n",
       "      <td>CNP</td>\n",
       "      <td>2005-01-06</td>\n",
       "      <td>8.1730</td>\n",
       "      <td>0.000833</td>\n",
       "    </tr>\n",
       "    <tr>\n",
       "      <th>4</th>\n",
       "      <td>CNP</td>\n",
       "      <td>2005-01-07</td>\n",
       "      <td>8.1277</td>\n",
       "      <td>-0.005543</td>\n",
       "    </tr>\n",
       "  </tbody>\n",
       "</table>\n",
       "</div>"
      ],
      "text/plain": [
       "  ticker        date   price   returns\n",
       "0    CNP  2005-01-03  8.4000       NaN\n",
       "1    CNP  2005-01-04  8.3168 -0.009905\n",
       "2    CNP  2005-01-05  8.1662 -0.018108\n",
       "3    CNP  2005-01-06  8.1730  0.000833\n",
       "4    CNP  2005-01-07  8.1277 -0.005543"
      ]
     },
     "execution_count": 20,
     "metadata": {},
     "output_type": "execute_result"
    }
   ],
   "source": [
    "df_returns.head()"
   ]
  },
  {
   "cell_type": "code",
   "execution_count": 21,
   "metadata": {},
   "outputs": [
    {
     "data": {
      "text/html": [
       "<div>\n",
       "<style scoped>\n",
       "    .dataframe tbody tr th:only-of-type {\n",
       "        vertical-align: middle;\n",
       "    }\n",
       "\n",
       "    .dataframe tbody tr th {\n",
       "        vertical-align: top;\n",
       "    }\n",
       "\n",
       "    .dataframe thead th {\n",
       "        text-align: right;\n",
       "    }\n",
       "</style>\n",
       "<table border=\"1\" class=\"dataframe\">\n",
       "  <thead>\n",
       "    <tr style=\"text-align: right;\">\n",
       "      <th></th>\n",
       "      <th>file_name</th>\n",
       "      <th>cik</th>\n",
       "      <th>filing_date</th>\n",
       "      <th>phi_pos</th>\n",
       "      <th>phi_neg</th>\n",
       "      <th>phi_npt</th>\n",
       "      <th>num_cleaned_words</th>\n",
       "    </tr>\n",
       "  </thead>\n",
       "  <tbody>\n",
       "    <tr>\n",
       "      <th>0</th>\n",
       "      <td>1037540_MDA_2017-02-28.txt</td>\n",
       "      <td>1037540</td>\n",
       "      <td>2017-02-28</td>\n",
       "      <td>0.036900</td>\n",
       "      <td>0.040590</td>\n",
       "      <td>-0.047619</td>\n",
       "      <td>271.0</td>\n",
       "    </tr>\n",
       "    <tr>\n",
       "      <th>1</th>\n",
       "      <td>26172_MDA_2007-02-27.txt</td>\n",
       "      <td>26172</td>\n",
       "      <td>2007-02-27</td>\n",
       "      <td>0.036629</td>\n",
       "      <td>0.017735</td>\n",
       "      <td>0.347548</td>\n",
       "      <td>8627.0</td>\n",
       "    </tr>\n",
       "    <tr>\n",
       "      <th>2</th>\n",
       "      <td>87347_MDA_2015-01-29.txt</td>\n",
       "      <td>87347</td>\n",
       "      <td>2015-01-29</td>\n",
       "      <td>0.045608</td>\n",
       "      <td>0.022545</td>\n",
       "      <td>0.338403</td>\n",
       "      <td>3859.0</td>\n",
       "    </tr>\n",
       "    <tr>\n",
       "      <th>3</th>\n",
       "      <td>1087423_MDA_2009-04-29.txt</td>\n",
       "      <td>1087423</td>\n",
       "      <td>2009-04-29</td>\n",
       "      <td>0.035301</td>\n",
       "      <td>0.016278</td>\n",
       "      <td>0.368821</td>\n",
       "      <td>5099.0</td>\n",
       "    </tr>\n",
       "    <tr>\n",
       "      <th>4</th>\n",
       "      <td>72741_MDA_2009-02-27.txt</td>\n",
       "      <td>72741</td>\n",
       "      <td>2009-02-27</td>\n",
       "      <td>0.039590</td>\n",
       "      <td>0.016269</td>\n",
       "      <td>0.417512</td>\n",
       "      <td>19424.0</td>\n",
       "    </tr>\n",
       "  </tbody>\n",
       "</table>\n",
       "</div>"
      ],
      "text/plain": [
       "                    file_name      cik filing_date   phi_pos   phi_neg  \\\n",
       "0  1037540_MDA_2017-02-28.txt  1037540  2017-02-28  0.036900  0.040590   \n",
       "1    26172_MDA_2007-02-27.txt    26172  2007-02-27  0.036629  0.017735   \n",
       "2    87347_MDA_2015-01-29.txt    87347  2015-01-29  0.045608  0.022545   \n",
       "3  1087423_MDA_2009-04-29.txt  1087423  2009-04-29  0.035301  0.016278   \n",
       "4    72741_MDA_2009-02-27.txt    72741  2009-02-27  0.039590  0.016269   \n",
       "\n",
       "    phi_npt  num_cleaned_words  \n",
       "0 -0.047619              271.0  \n",
       "1  0.347548             8627.0  \n",
       "2  0.338403             3859.0  \n",
       "3  0.368821             5099.0  \n",
       "4  0.417512            19424.0  "
      ]
     },
     "execution_count": 21,
     "metadata": {},
     "output_type": "execute_result"
    }
   ],
   "source": [
    "df_scores.head()"
   ]
  },
  {
   "cell_type": "code",
   "execution_count": 22,
   "metadata": {},
   "outputs": [
    {
     "data": {
      "text/html": [
       "<div>\n",
       "<style scoped>\n",
       "    .dataframe tbody tr th:only-of-type {\n",
       "        vertical-align: middle;\n",
       "    }\n",
       "\n",
       "    .dataframe tbody tr th {\n",
       "        vertical-align: top;\n",
       "    }\n",
       "\n",
       "    .dataframe thead th {\n",
       "        text-align: right;\n",
       "    }\n",
       "</style>\n",
       "<table border=\"1\" class=\"dataframe\">\n",
       "  <thead>\n",
       "    <tr style=\"text-align: right;\">\n",
       "      <th></th>\n",
       "      <th>Security</th>\n",
       "      <th>Symbol</th>\n",
       "      <th>SEC filings</th>\n",
       "      <th>GICS Sector</th>\n",
       "      <th>GICS Sub Industry</th>\n",
       "      <th>Headquarters Location</th>\n",
       "      <th>Date first added</th>\n",
       "      <th>CIK</th>\n",
       "      <th>Founded</th>\n",
       "    </tr>\n",
       "  </thead>\n",
       "  <tbody>\n",
       "    <tr>\n",
       "      <th>0</th>\n",
       "      <td>3M Company</td>\n",
       "      <td>MMM</td>\n",
       "      <td>reports</td>\n",
       "      <td>Industrials</td>\n",
       "      <td>Industrial Conglomerates</td>\n",
       "      <td>St. Paul, Minnesota</td>\n",
       "      <td>NaN</td>\n",
       "      <td>66740</td>\n",
       "      <td>1902</td>\n",
       "    </tr>\n",
       "    <tr>\n",
       "      <th>1</th>\n",
       "      <td>Abbott Laboratories</td>\n",
       "      <td>ABT</td>\n",
       "      <td>reports</td>\n",
       "      <td>Health Care</td>\n",
       "      <td>Health Care Equipment</td>\n",
       "      <td>North Chicago, Illinois</td>\n",
       "      <td>31/03/1964</td>\n",
       "      <td>1800</td>\n",
       "      <td>1888</td>\n",
       "    </tr>\n",
       "    <tr>\n",
       "      <th>2</th>\n",
       "      <td>AbbVie Inc.</td>\n",
       "      <td>ABBV</td>\n",
       "      <td>reports</td>\n",
       "      <td>Health Care</td>\n",
       "      <td>Pharmaceuticals</td>\n",
       "      <td>North Chicago, Illinois</td>\n",
       "      <td>31/12/2012</td>\n",
       "      <td>1551152</td>\n",
       "      <td>2013 (1888)</td>\n",
       "    </tr>\n",
       "    <tr>\n",
       "      <th>3</th>\n",
       "      <td>ABIOMED Inc</td>\n",
       "      <td>ABMD</td>\n",
       "      <td>reports</td>\n",
       "      <td>Health Care</td>\n",
       "      <td>Health Care Equipment</td>\n",
       "      <td>Danvers, Massachusetts</td>\n",
       "      <td>31/05/2018</td>\n",
       "      <td>815094</td>\n",
       "      <td>1981</td>\n",
       "    </tr>\n",
       "    <tr>\n",
       "      <th>4</th>\n",
       "      <td>Accenture plc</td>\n",
       "      <td>ACN</td>\n",
       "      <td>reports</td>\n",
       "      <td>Information Technology</td>\n",
       "      <td>IT Consulting &amp; Other Services</td>\n",
       "      <td>Dublin, Ireland</td>\n",
       "      <td>06/07/2011</td>\n",
       "      <td>1467373</td>\n",
       "      <td>1989</td>\n",
       "    </tr>\n",
       "  </tbody>\n",
       "</table>\n",
       "</div>"
      ],
      "text/plain": [
       "              Security Symbol SEC filings             GICS Sector  \\\n",
       "0           3M Company    MMM     reports             Industrials   \n",
       "1  Abbott Laboratories    ABT     reports             Health Care   \n",
       "2          AbbVie Inc.   ABBV     reports             Health Care   \n",
       "3          ABIOMED Inc   ABMD     reports             Health Care   \n",
       "4        Accenture plc    ACN     reports  Information Technology   \n",
       "\n",
       "                GICS Sub Industry    Headquarters Location Date first added  \\\n",
       "0        Industrial Conglomerates      St. Paul, Minnesota              NaN   \n",
       "1           Health Care Equipment  North Chicago, Illinois       31/03/1964   \n",
       "2                 Pharmaceuticals  North Chicago, Illinois       31/12/2012   \n",
       "3           Health Care Equipment   Danvers, Massachusetts       31/05/2018   \n",
       "4  IT Consulting & Other Services          Dublin, Ireland       06/07/2011   \n",
       "\n",
       "       CIK      Founded  \n",
       "0    66740         1902  \n",
       "1     1800         1888  \n",
       "2  1551152  2013 (1888)  \n",
       "3   815094         1981  \n",
       "4  1467373         1989  "
      ]
     },
     "execution_count": 22,
     "metadata": {},
     "output_type": "execute_result"
    }
   ],
   "source": [
    "df_crosswalk.head()"
   ]
  },
  {
   "cell_type": "code",
   "execution_count": 23,
   "metadata": {},
   "outputs": [],
   "source": [
    "df_returns['date'] = pd.to_datetime(df_returns['date'])\n",
    "df_returns.dropna(subset=['returns'], inplace=True)"
   ]
  },
  {
   "cell_type": "code",
   "execution_count": 24,
   "metadata": {},
   "outputs": [],
   "source": [
    "df_scores['filing_date'] = pd.to_datetime(df_scores['filing_date'])"
   ]
  },
  {
   "cell_type": "code",
   "execution_count": 25,
   "metadata": {},
   "outputs": [],
   "source": [
    "df_crosswalk = df_crosswalk[['Symbol', 'CIK']]"
   ]
  },
  {
   "cell_type": "code",
   "execution_count": 26,
   "metadata": {},
   "outputs": [],
   "source": [
    "# Rename columns to match our existing naming conventions\n",
    "# This ensures we won't have duplicate columns later on\n",
    "\n",
    "df_crosswalk.columns = ['ticker', 'cik']"
   ]
  },
  {
   "cell_type": "code",
   "execution_count": 27,
   "metadata": {},
   "outputs": [],
   "source": [
    "# Merge the returns dataset with the crosswalk using the ticker as a common identifier\n",
    "\n",
    "df_returns = df_returns.merge(df_crosswalk, on='ticker', how='inner')"
   ]
  },
  {
   "cell_type": "code",
   "execution_count": 28,
   "metadata": {},
   "outputs": [],
   "source": [
    "df_master = df_returns.merge(df_scores, left_on=['cik', 'date'],right_on=['cik', 'filing_date'],how='left')"
   ]
  },
  {
   "cell_type": "code",
   "execution_count": 29,
   "metadata": {},
   "outputs": [
    {
     "data": {
      "text/html": [
       "<div>\n",
       "<style scoped>\n",
       "    .dataframe tbody tr th:only-of-type {\n",
       "        vertical-align: middle;\n",
       "    }\n",
       "\n",
       "    .dataframe tbody tr th {\n",
       "        vertical-align: top;\n",
       "    }\n",
       "\n",
       "    .dataframe thead th {\n",
       "        text-align: right;\n",
       "    }\n",
       "</style>\n",
       "<table border=\"1\" class=\"dataframe\">\n",
       "  <thead>\n",
       "    <tr style=\"text-align: right;\">\n",
       "      <th></th>\n",
       "      <th>ticker</th>\n",
       "      <th>date</th>\n",
       "      <th>price</th>\n",
       "      <th>returns</th>\n",
       "      <th>cik</th>\n",
       "      <th>file_name</th>\n",
       "      <th>filing_date</th>\n",
       "      <th>phi_pos</th>\n",
       "      <th>phi_neg</th>\n",
       "      <th>phi_npt</th>\n",
       "      <th>num_cleaned_words</th>\n",
       "    </tr>\n",
       "  </thead>\n",
       "  <tbody>\n",
       "    <tr>\n",
       "      <th>49</th>\n",
       "      <td>CNP</td>\n",
       "      <td>2005-03-16</td>\n",
       "      <td>9.2306</td>\n",
       "      <td>-0.013551</td>\n",
       "      <td>1130310</td>\n",
       "      <td>1130310_MDA_2005-03-16.txt</td>\n",
       "      <td>2005-03-16</td>\n",
       "      <td>0.031456</td>\n",
       "      <td>0.029121</td>\n",
       "      <td>0.038549</td>\n",
       "      <td>7280.0</td>\n",
       "    </tr>\n",
       "    <tr>\n",
       "      <th>301</th>\n",
       "      <td>CNP</td>\n",
       "      <td>2006-03-16</td>\n",
       "      <td>9.6470</td>\n",
       "      <td>-0.007714</td>\n",
       "      <td>1130310</td>\n",
       "      <td>1130310_MDA_2006-03-16.txt</td>\n",
       "      <td>2006-03-16</td>\n",
       "      <td>0.033819</td>\n",
       "      <td>0.022748</td>\n",
       "      <td>0.195710</td>\n",
       "      <td>6594.0</td>\n",
       "    </tr>\n",
       "    <tr>\n",
       "      <th>540</th>\n",
       "      <td>CNP</td>\n",
       "      <td>2007-02-28</td>\n",
       "      <td>13.5440</td>\n",
       "      <td>-0.001106</td>\n",
       "      <td>1130310</td>\n",
       "      <td>1130310_MDA_2007-02-28.txt</td>\n",
       "      <td>2007-02-28</td>\n",
       "      <td>0.031138</td>\n",
       "      <td>0.021997</td>\n",
       "      <td>0.172043</td>\n",
       "      <td>7001.0</td>\n",
       "    </tr>\n",
       "    <tr>\n",
       "      <th>792</th>\n",
       "      <td>CNP</td>\n",
       "      <td>2008-02-28</td>\n",
       "      <td>11.5980</td>\n",
       "      <td>0.001814</td>\n",
       "      <td>1130310</td>\n",
       "      <td>1130310_MDA_2008-02-28.txt</td>\n",
       "      <td>2008-02-28</td>\n",
       "      <td>0.033930</td>\n",
       "      <td>0.022047</td>\n",
       "      <td>0.212276</td>\n",
       "      <td>6985.0</td>\n",
       "    </tr>\n",
       "    <tr>\n",
       "      <th>1042</th>\n",
       "      <td>CNP</td>\n",
       "      <td>2009-02-25</td>\n",
       "      <td>7.9907</td>\n",
       "      <td>-0.114447</td>\n",
       "      <td>1130310</td>\n",
       "      <td>1130310_MDA_2009-02-25.txt</td>\n",
       "      <td>2009-02-25</td>\n",
       "      <td>0.034543</td>\n",
       "      <td>0.023719</td>\n",
       "      <td>0.185792</td>\n",
       "      <td>6282.0</td>\n",
       "    </tr>\n",
       "    <tr>\n",
       "      <th>...</th>\n",
       "      <td>...</td>\n",
       "      <td>...</td>\n",
       "      <td>...</td>\n",
       "      <td>...</td>\n",
       "      <td>...</td>\n",
       "      <td>...</td>\n",
       "      <td>...</td>\n",
       "      <td>...</td>\n",
       "      <td>...</td>\n",
       "      <td>...</td>\n",
       "      <td>...</td>\n",
       "    </tr>\n",
       "    <tr>\n",
       "      <th>301367</th>\n",
       "      <td>HPQ</td>\n",
       "      <td>2012-12-27</td>\n",
       "      <td>5.6096</td>\n",
       "      <td>-0.005778</td>\n",
       "      <td>47217</td>\n",
       "      <td>47217_MDA_2012-12-27.txt</td>\n",
       "      <td>2012-12-27</td>\n",
       "      <td>0.037173</td>\n",
       "      <td>0.028197</td>\n",
       "      <td>0.137324</td>\n",
       "      <td>8689.0</td>\n",
       "    </tr>\n",
       "    <tr>\n",
       "      <th>301620</th>\n",
       "      <td>HPQ</td>\n",
       "      <td>2013-12-30</td>\n",
       "      <td>11.4870</td>\n",
       "      <td>-0.004334</td>\n",
       "      <td>47217</td>\n",
       "      <td>47217_MDA_2013-12-30.txt</td>\n",
       "      <td>2013-12-30</td>\n",
       "      <td>0.039027</td>\n",
       "      <td>0.036312</td>\n",
       "      <td>0.036036</td>\n",
       "      <td>8840.0</td>\n",
       "    </tr>\n",
       "    <tr>\n",
       "      <th>301865</th>\n",
       "      <td>HPQ</td>\n",
       "      <td>2014-12-18</td>\n",
       "      <td>16.5910</td>\n",
       "      <td>0.030369</td>\n",
       "      <td>47217</td>\n",
       "      <td>47217_MDA_2014-12-18.txt</td>\n",
       "      <td>2014-12-18</td>\n",
       "      <td>0.040528</td>\n",
       "      <td>0.032579</td>\n",
       "      <td>0.108729</td>\n",
       "      <td>8932.0</td>\n",
       "    </tr>\n",
       "    <tr>\n",
       "      <th>302115</th>\n",
       "      <td>HPQ</td>\n",
       "      <td>2015-12-16</td>\n",
       "      <td>11.5520</td>\n",
       "      <td>0.004172</td>\n",
       "      <td>47217</td>\n",
       "      <td>47217_MDA_2015-12-16.txt</td>\n",
       "      <td>2015-12-16</td>\n",
       "      <td>0.039710</td>\n",
       "      <td>0.032453</td>\n",
       "      <td>0.100559</td>\n",
       "      <td>9922.0</td>\n",
       "    </tr>\n",
       "    <tr>\n",
       "      <th>302367</th>\n",
       "      <td>HPQ</td>\n",
       "      <td>2016-12-15</td>\n",
       "      <td>15.1730</td>\n",
       "      <td>-0.006548</td>\n",
       "      <td>47217</td>\n",
       "      <td>47217_MDA_2016-12-15.txt</td>\n",
       "      <td>2016-12-15</td>\n",
       "      <td>0.041990</td>\n",
       "      <td>0.033725</td>\n",
       "      <td>0.109170</td>\n",
       "      <td>6049.0</td>\n",
       "    </tr>\n",
       "  </tbody>\n",
       "</table>\n",
       "<p>920 rows × 11 columns</p>\n",
       "</div>"
      ],
      "text/plain": [
       "       ticker       date    price   returns      cik  \\\n",
       "49        CNP 2005-03-16   9.2306 -0.013551  1130310   \n",
       "301       CNP 2006-03-16   9.6470 -0.007714  1130310   \n",
       "540       CNP 2007-02-28  13.5440 -0.001106  1130310   \n",
       "792       CNP 2008-02-28  11.5980  0.001814  1130310   \n",
       "1042      CNP 2009-02-25   7.9907 -0.114447  1130310   \n",
       "...       ...        ...      ...       ...      ...   \n",
       "301367    HPQ 2012-12-27   5.6096 -0.005778    47217   \n",
       "301620    HPQ 2013-12-30  11.4870 -0.004334    47217   \n",
       "301865    HPQ 2014-12-18  16.5910  0.030369    47217   \n",
       "302115    HPQ 2015-12-16  11.5520  0.004172    47217   \n",
       "302367    HPQ 2016-12-15  15.1730 -0.006548    47217   \n",
       "\n",
       "                         file_name filing_date   phi_pos   phi_neg   phi_npt  \\\n",
       "49      1130310_MDA_2005-03-16.txt  2005-03-16  0.031456  0.029121  0.038549   \n",
       "301     1130310_MDA_2006-03-16.txt  2006-03-16  0.033819  0.022748  0.195710   \n",
       "540     1130310_MDA_2007-02-28.txt  2007-02-28  0.031138  0.021997  0.172043   \n",
       "792     1130310_MDA_2008-02-28.txt  2008-02-28  0.033930  0.022047  0.212276   \n",
       "1042    1130310_MDA_2009-02-25.txt  2009-02-25  0.034543  0.023719  0.185792   \n",
       "...                            ...         ...       ...       ...       ...   \n",
       "301367    47217_MDA_2012-12-27.txt  2012-12-27  0.037173  0.028197  0.137324   \n",
       "301620    47217_MDA_2013-12-30.txt  2013-12-30  0.039027  0.036312  0.036036   \n",
       "301865    47217_MDA_2014-12-18.txt  2014-12-18  0.040528  0.032579  0.108729   \n",
       "302115    47217_MDA_2015-12-16.txt  2015-12-16  0.039710  0.032453  0.100559   \n",
       "302367    47217_MDA_2016-12-15.txt  2016-12-15  0.041990  0.033725  0.109170   \n",
       "\n",
       "        num_cleaned_words  \n",
       "49                 7280.0  \n",
       "301                6594.0  \n",
       "540                7001.0  \n",
       "792                6985.0  \n",
       "1042               6282.0  \n",
       "...                   ...  \n",
       "301367             8689.0  \n",
       "301620             8840.0  \n",
       "301865             8932.0  \n",
       "302115             9922.0  \n",
       "302367             6049.0  \n",
       "\n",
       "[920 rows x 11 columns]"
      ]
     },
     "execution_count": 29,
     "metadata": {},
     "output_type": "execute_result"
    }
   ],
   "source": [
    "# Verifying that it's not ALL missing observations\n",
    "# Note the number of non-missing tone observations is currently 920\n",
    "\n",
    "df_master[df_master['phi_npt'].notnull()]"
   ]
  },
  {
   "cell_type": "code",
   "execution_count": 30,
   "metadata": {},
   "outputs": [],
   "source": [
    "# Forward fill all missing tone observations\n",
    "\n",
    "df_master = df_master.groupby('ticker').ffill()"
   ]
  },
  {
   "cell_type": "code",
   "execution_count": 31,
   "metadata": {},
   "outputs": [],
   "source": [
    "df_master.dropna(inplace=True)"
   ]
  },
  {
   "cell_type": "code",
   "execution_count": null,
   "metadata": {},
   "outputs": [],
   "source": []
  },
  {
   "cell_type": "markdown",
   "metadata": {},
   "source": [
    "# Estimating Sentiment Portfolio Returns"
   ]
  },
  {
   "cell_type": "code",
   "execution_count": 34,
   "metadata": {},
   "outputs": [],
   "source": [
    "df_master=df_master.merge(df_crosswalk,on='cik')"
   ]
  },
  {
   "cell_type": "code",
   "execution_count": 35,
   "metadata": {},
   "outputs": [
    {
     "data": {
      "text/html": [
       "<div>\n",
       "<style scoped>\n",
       "    .dataframe tbody tr th:only-of-type {\n",
       "        vertical-align: middle;\n",
       "    }\n",
       "\n",
       "    .dataframe tbody tr th {\n",
       "        vertical-align: top;\n",
       "    }\n",
       "\n",
       "    .dataframe thead th {\n",
       "        text-align: right;\n",
       "    }\n",
       "</style>\n",
       "<table border=\"1\" class=\"dataframe\">\n",
       "  <thead>\n",
       "    <tr style=\"text-align: right;\">\n",
       "      <th></th>\n",
       "      <th>date</th>\n",
       "      <th>price</th>\n",
       "      <th>returns</th>\n",
       "      <th>cik</th>\n",
       "      <th>file_name</th>\n",
       "      <th>filing_date</th>\n",
       "      <th>phi_pos</th>\n",
       "      <th>phi_neg</th>\n",
       "      <th>phi_npt</th>\n",
       "      <th>num_cleaned_words</th>\n",
       "      <th>ticker</th>\n",
       "    </tr>\n",
       "  </thead>\n",
       "  <tbody>\n",
       "    <tr>\n",
       "      <th>0</th>\n",
       "      <td>2005-03-16</td>\n",
       "      <td>9.2306</td>\n",
       "      <td>-0.013551</td>\n",
       "      <td>1130310</td>\n",
       "      <td>1130310_MDA_2005-03-16.txt</td>\n",
       "      <td>2005-03-16</td>\n",
       "      <td>0.031456</td>\n",
       "      <td>0.029121</td>\n",
       "      <td>0.038549</td>\n",
       "      <td>7280.0</td>\n",
       "      <td>CNP</td>\n",
       "    </tr>\n",
       "    <tr>\n",
       "      <th>1</th>\n",
       "      <td>2005-03-17</td>\n",
       "      <td>9.2976</td>\n",
       "      <td>0.007258</td>\n",
       "      <td>1130310</td>\n",
       "      <td>1130310_MDA_2005-03-16.txt</td>\n",
       "      <td>2005-03-16</td>\n",
       "      <td>0.031456</td>\n",
       "      <td>0.029121</td>\n",
       "      <td>0.038549</td>\n",
       "      <td>7280.0</td>\n",
       "      <td>CNP</td>\n",
       "    </tr>\n",
       "    <tr>\n",
       "      <th>2</th>\n",
       "      <td>2005-03-18</td>\n",
       "      <td>9.3221</td>\n",
       "      <td>0.002635</td>\n",
       "      <td>1130310</td>\n",
       "      <td>1130310_MDA_2005-03-16.txt</td>\n",
       "      <td>2005-03-16</td>\n",
       "      <td>0.031456</td>\n",
       "      <td>0.029121</td>\n",
       "      <td>0.038549</td>\n",
       "      <td>7280.0</td>\n",
       "      <td>CNP</td>\n",
       "    </tr>\n",
       "    <tr>\n",
       "      <th>3</th>\n",
       "      <td>2005-03-21</td>\n",
       "      <td>9.2529</td>\n",
       "      <td>-0.007423</td>\n",
       "      <td>1130310</td>\n",
       "      <td>1130310_MDA_2005-03-16.txt</td>\n",
       "      <td>2005-03-16</td>\n",
       "      <td>0.031456</td>\n",
       "      <td>0.029121</td>\n",
       "      <td>0.038549</td>\n",
       "      <td>7280.0</td>\n",
       "      <td>CNP</td>\n",
       "    </tr>\n",
       "    <tr>\n",
       "      <th>4</th>\n",
       "      <td>2005-03-22</td>\n",
       "      <td>8.9938</td>\n",
       "      <td>-0.028002</td>\n",
       "      <td>1130310</td>\n",
       "      <td>1130310_MDA_2005-03-16.txt</td>\n",
       "      <td>2005-03-16</td>\n",
       "      <td>0.031456</td>\n",
       "      <td>0.029121</td>\n",
       "      <td>0.038549</td>\n",
       "      <td>7280.0</td>\n",
       "      <td>CNP</td>\n",
       "    </tr>\n",
       "    <tr>\n",
       "      <th>...</th>\n",
       "      <td>...</td>\n",
       "      <td>...</td>\n",
       "      <td>...</td>\n",
       "      <td>...</td>\n",
       "      <td>...</td>\n",
       "      <td>...</td>\n",
       "      <td>...</td>\n",
       "      <td>...</td>\n",
       "      <td>...</td>\n",
       "      <td>...</td>\n",
       "      <td>...</td>\n",
       "    </tr>\n",
       "    <tr>\n",
       "      <th>239514</th>\n",
       "      <td>2017-11-06</td>\n",
       "      <td>21.4400</td>\n",
       "      <td>-0.001397</td>\n",
       "      <td>47217</td>\n",
       "      <td>47217_MDA_2016-12-15.txt</td>\n",
       "      <td>2016-12-15</td>\n",
       "      <td>0.041990</td>\n",
       "      <td>0.033725</td>\n",
       "      <td>0.109170</td>\n",
       "      <td>6049.0</td>\n",
       "      <td>HPQ</td>\n",
       "    </tr>\n",
       "    <tr>\n",
       "      <th>239515</th>\n",
       "      <td>2017-11-07</td>\n",
       "      <td>21.3800</td>\n",
       "      <td>-0.002799</td>\n",
       "      <td>47217</td>\n",
       "      <td>47217_MDA_2016-12-15.txt</td>\n",
       "      <td>2016-12-15</td>\n",
       "      <td>0.041990</td>\n",
       "      <td>0.033725</td>\n",
       "      <td>0.109170</td>\n",
       "      <td>6049.0</td>\n",
       "      <td>HPQ</td>\n",
       "    </tr>\n",
       "    <tr>\n",
       "      <th>239516</th>\n",
       "      <td>2017-11-08</td>\n",
       "      <td>21.4200</td>\n",
       "      <td>0.001871</td>\n",
       "      <td>47217</td>\n",
       "      <td>47217_MDA_2016-12-15.txt</td>\n",
       "      <td>2016-12-15</td>\n",
       "      <td>0.041990</td>\n",
       "      <td>0.033725</td>\n",
       "      <td>0.109170</td>\n",
       "      <td>6049.0</td>\n",
       "      <td>HPQ</td>\n",
       "    </tr>\n",
       "    <tr>\n",
       "      <th>239517</th>\n",
       "      <td>2017-11-09</td>\n",
       "      <td>21.3400</td>\n",
       "      <td>-0.003735</td>\n",
       "      <td>47217</td>\n",
       "      <td>47217_MDA_2016-12-15.txt</td>\n",
       "      <td>2016-12-15</td>\n",
       "      <td>0.041990</td>\n",
       "      <td>0.033725</td>\n",
       "      <td>0.109170</td>\n",
       "      <td>6049.0</td>\n",
       "      <td>HPQ</td>\n",
       "    </tr>\n",
       "    <tr>\n",
       "      <th>239518</th>\n",
       "      <td>2017-11-10</td>\n",
       "      <td>21.2300</td>\n",
       "      <td>-0.005155</td>\n",
       "      <td>47217</td>\n",
       "      <td>47217_MDA_2016-12-15.txt</td>\n",
       "      <td>2016-12-15</td>\n",
       "      <td>0.041990</td>\n",
       "      <td>0.033725</td>\n",
       "      <td>0.109170</td>\n",
       "      <td>6049.0</td>\n",
       "      <td>HPQ</td>\n",
       "    </tr>\n",
       "  </tbody>\n",
       "</table>\n",
       "<p>239519 rows × 11 columns</p>\n",
       "</div>"
      ],
      "text/plain": [
       "             date    price   returns      cik                   file_name  \\\n",
       "0      2005-03-16   9.2306 -0.013551  1130310  1130310_MDA_2005-03-16.txt   \n",
       "1      2005-03-17   9.2976  0.007258  1130310  1130310_MDA_2005-03-16.txt   \n",
       "2      2005-03-18   9.3221  0.002635  1130310  1130310_MDA_2005-03-16.txt   \n",
       "3      2005-03-21   9.2529 -0.007423  1130310  1130310_MDA_2005-03-16.txt   \n",
       "4      2005-03-22   8.9938 -0.028002  1130310  1130310_MDA_2005-03-16.txt   \n",
       "...           ...      ...       ...      ...                         ...   \n",
       "239514 2017-11-06  21.4400 -0.001397    47217    47217_MDA_2016-12-15.txt   \n",
       "239515 2017-11-07  21.3800 -0.002799    47217    47217_MDA_2016-12-15.txt   \n",
       "239516 2017-11-08  21.4200  0.001871    47217    47217_MDA_2016-12-15.txt   \n",
       "239517 2017-11-09  21.3400 -0.003735    47217    47217_MDA_2016-12-15.txt   \n",
       "239518 2017-11-10  21.2300 -0.005155    47217    47217_MDA_2016-12-15.txt   \n",
       "\n",
       "       filing_date   phi_pos   phi_neg   phi_npt  num_cleaned_words ticker  \n",
       "0       2005-03-16  0.031456  0.029121  0.038549             7280.0    CNP  \n",
       "1       2005-03-16  0.031456  0.029121  0.038549             7280.0    CNP  \n",
       "2       2005-03-16  0.031456  0.029121  0.038549             7280.0    CNP  \n",
       "3       2005-03-16  0.031456  0.029121  0.038549             7280.0    CNP  \n",
       "4       2005-03-16  0.031456  0.029121  0.038549             7280.0    CNP  \n",
       "...            ...       ...       ...       ...                ...    ...  \n",
       "239514  2016-12-15  0.041990  0.033725  0.109170             6049.0    HPQ  \n",
       "239515  2016-12-15  0.041990  0.033725  0.109170             6049.0    HPQ  \n",
       "239516  2016-12-15  0.041990  0.033725  0.109170             6049.0    HPQ  \n",
       "239517  2016-12-15  0.041990  0.033725  0.109170             6049.0    HPQ  \n",
       "239518  2016-12-15  0.041990  0.033725  0.109170             6049.0    HPQ  \n",
       "\n",
       "[239519 rows x 11 columns]"
      ]
     },
     "execution_count": 35,
     "metadata": {},
     "output_type": "execute_result"
    }
   ],
   "source": [
    "df_master"
   ]
  },
  {
   "cell_type": "code",
   "execution_count": 36,
   "metadata": {},
   "outputs": [],
   "source": [
    "# outlier deletion\n",
    "\n",
    "# Remove outliers in returns (i.e., those values greater than 3 * standard deviation)\n",
    "\n",
    "df_master = df_master[abs(df_master['returns']) <= (df_master['returns'].std() * 3)]"
   ]
  },
  {
   "cell_type": "markdown",
   "metadata": {},
   "source": [
    "### Here I devide the Net Positive Score into five quintiles for doing the analysis."
   ]
  },
  {
   "cell_type": "code",
   "execution_count": 39,
   "metadata": {
    "scrolled": true
   },
   "outputs": [
    {
     "name": "stderr",
     "output_type": "stream",
     "text": [
      "<ipython-input-39-97b2ed6039c7>:1: SettingWithCopyWarning: \n",
      "A value is trying to be set on a copy of a slice from a DataFrame.\n",
      "Try using .loc[row_indexer,col_indexer] = value instead\n",
      "\n",
      "See the caveats in the documentation: https://pandas.pydata.org/pandas-docs/stable/user_guide/indexing.html#returning-a-view-versus-a-copy\n",
      "  df_master['quintile_tone_rank'] = pd.qcut(df_master.phi_npt, q=5, labels=['quintile_1','quintile_2','quintile_3','quintile_4','quintile_5'])\n"
     ]
    }
   ],
   "source": [
    "df_master['quintile_tone_rank'] = pd.qcut(df_master.phi_npt, q=5, labels=['quintile_1','quintile_2','quintile_3','quintile_4','quintile_5'])"
   ]
  },
  {
   "cell_type": "code",
   "execution_count": 43,
   "metadata": {
    "scrolled": true
   },
   "outputs": [
    {
     "data": {
      "text/plain": [
       "quintile_tone_rank\n",
       "quintile_1    48055\n",
       "quintile_2    47887\n",
       "quintile_3    48005\n",
       "quintile_4    47807\n",
       "quintile_5    47758\n",
       "dtype: int64"
      ]
     },
     "execution_count": 43,
     "metadata": {},
     "output_type": "execute_result"
    }
   ],
   "source": [
    "df_master.groupby('quintile_tone_rank').size()"
   ]
  },
  {
   "cell_type": "code",
   "execution_count": 44,
   "metadata": {},
   "outputs": [],
   "source": [
    "# Estimate returns of equal weighted sentiment portfolios\n",
    "\n",
    "sentiment_returns = df_master.groupby(['date', 'quintile_tone_rank'])['returns'].mean().unstack()"
   ]
  },
  {
   "cell_type": "code",
   "execution_count": 45,
   "metadata": {},
   "outputs": [
    {
     "data": {
      "text/html": [
       "<div>\n",
       "<style scoped>\n",
       "    .dataframe tbody tr th:only-of-type {\n",
       "        vertical-align: middle;\n",
       "    }\n",
       "\n",
       "    .dataframe tbody tr th {\n",
       "        vertical-align: top;\n",
       "    }\n",
       "\n",
       "    .dataframe thead th {\n",
       "        text-align: right;\n",
       "    }\n",
       "</style>\n",
       "<table border=\"1\" class=\"dataframe\">\n",
       "  <thead>\n",
       "    <tr style=\"text-align: right;\">\n",
       "      <th>quintile_tone_rank</th>\n",
       "      <th>quintile_1</th>\n",
       "      <th>quintile_2</th>\n",
       "      <th>quintile_3</th>\n",
       "      <th>quintile_4</th>\n",
       "      <th>quintile_5</th>\n",
       "    </tr>\n",
       "    <tr>\n",
       "      <th>date</th>\n",
       "      <th></th>\n",
       "      <th></th>\n",
       "      <th></th>\n",
       "      <th></th>\n",
       "      <th></th>\n",
       "    </tr>\n",
       "  </thead>\n",
       "  <tbody>\n",
       "    <tr>\n",
       "      <th>2005-02-24</th>\n",
       "      <td>0.024941</td>\n",
       "      <td>NaN</td>\n",
       "      <td>NaN</td>\n",
       "      <td>NaN</td>\n",
       "      <td>NaN</td>\n",
       "    </tr>\n",
       "    <tr>\n",
       "      <th>2005-02-25</th>\n",
       "      <td>0.012027</td>\n",
       "      <td>NaN</td>\n",
       "      <td>NaN</td>\n",
       "      <td>NaN</td>\n",
       "      <td>NaN</td>\n",
       "    </tr>\n",
       "    <tr>\n",
       "      <th>2005-02-28</th>\n",
       "      <td>-0.005190</td>\n",
       "      <td>NaN</td>\n",
       "      <td>-0.006633</td>\n",
       "      <td>-0.009890</td>\n",
       "      <td>NaN</td>\n",
       "    </tr>\n",
       "    <tr>\n",
       "      <th>2005-03-01</th>\n",
       "      <td>0.007290</td>\n",
       "      <td>NaN</td>\n",
       "      <td>0.007021</td>\n",
       "      <td>0.004726</td>\n",
       "      <td>0.019539</td>\n",
       "    </tr>\n",
       "    <tr>\n",
       "      <th>2005-03-02</th>\n",
       "      <td>-0.003300</td>\n",
       "      <td>0.004165</td>\n",
       "      <td>0.006649</td>\n",
       "      <td>0.003891</td>\n",
       "      <td>-0.001043</td>\n",
       "    </tr>\n",
       "    <tr>\n",
       "      <th>...</th>\n",
       "      <td>...</td>\n",
       "      <td>...</td>\n",
       "      <td>...</td>\n",
       "      <td>...</td>\n",
       "      <td>...</td>\n",
       "    </tr>\n",
       "    <tr>\n",
       "      <th>2017-11-06</th>\n",
       "      <td>0.002880</td>\n",
       "      <td>0.011274</td>\n",
       "      <td>0.002556</td>\n",
       "      <td>-0.003245</td>\n",
       "      <td>0.012480</td>\n",
       "    </tr>\n",
       "    <tr>\n",
       "      <th>2017-11-07</th>\n",
       "      <td>-0.001627</td>\n",
       "      <td>-0.001145</td>\n",
       "      <td>0.000495</td>\n",
       "      <td>0.000246</td>\n",
       "      <td>-0.013540</td>\n",
       "    </tr>\n",
       "    <tr>\n",
       "      <th>2017-11-08</th>\n",
       "      <td>-0.001413</td>\n",
       "      <td>0.000888</td>\n",
       "      <td>0.003861</td>\n",
       "      <td>0.004504</td>\n",
       "      <td>0.008362</td>\n",
       "    </tr>\n",
       "    <tr>\n",
       "      <th>2017-11-09</th>\n",
       "      <td>-0.002010</td>\n",
       "      <td>-0.001523</td>\n",
       "      <td>-0.002453</td>\n",
       "      <td>-0.005798</td>\n",
       "      <td>-0.002347</td>\n",
       "    </tr>\n",
       "    <tr>\n",
       "      <th>2017-11-10</th>\n",
       "      <td>0.001282</td>\n",
       "      <td>-0.000928</td>\n",
       "      <td>-0.000120</td>\n",
       "      <td>-0.001108</td>\n",
       "      <td>0.003293</td>\n",
       "    </tr>\n",
       "  </tbody>\n",
       "</table>\n",
       "<p>3203 rows × 5 columns</p>\n",
       "</div>"
      ],
      "text/plain": [
       "quintile_tone_rank  quintile_1  quintile_2  quintile_3  quintile_4  quintile_5\n",
       "date                                                                          \n",
       "2005-02-24            0.024941         NaN         NaN         NaN         NaN\n",
       "2005-02-25            0.012027         NaN         NaN         NaN         NaN\n",
       "2005-02-28           -0.005190         NaN   -0.006633   -0.009890         NaN\n",
       "2005-03-01            0.007290         NaN    0.007021    0.004726    0.019539\n",
       "2005-03-02           -0.003300    0.004165    0.006649    0.003891   -0.001043\n",
       "...                        ...         ...         ...         ...         ...\n",
       "2017-11-06            0.002880    0.011274    0.002556   -0.003245    0.012480\n",
       "2017-11-07           -0.001627   -0.001145    0.000495    0.000246   -0.013540\n",
       "2017-11-08           -0.001413    0.000888    0.003861    0.004504    0.008362\n",
       "2017-11-09           -0.002010   -0.001523   -0.002453   -0.005798   -0.002347\n",
       "2017-11-10            0.001282   -0.000928   -0.000120   -0.001108    0.003293\n",
       "\n",
       "[3203 rows x 5 columns]"
      ]
     },
     "execution_count": 45,
     "metadata": {},
     "output_type": "execute_result"
    }
   ],
   "source": [
    "sentiment_returns"
   ]
  },
  {
   "cell_type": "code",
   "execution_count": 46,
   "metadata": {},
   "outputs": [],
   "source": [
    "# Drop missing observations\n",
    "sentiment_returns.dropna(inplace=True)"
   ]
  },
  {
   "cell_type": "code",
   "execution_count": 47,
   "metadata": {
    "scrolled": false
   },
   "outputs": [
    {
     "data": {
      "text/plain": [
       "<AxesSubplot:xlabel='date'>"
      ]
     },
     "execution_count": 47,
     "metadata": {},
     "output_type": "execute_result"
    },
    {
     "data": {
      "image/png": "[encoded data removed]",
      "text/plain": [
       "<Figure size 864x576 with 1 Axes>"
      ]
     },
     "metadata": {},
     "output_type": "display_data"
    }
   ],
   "source": [
    "# Plot cumulative returns across all quintiles\n",
    "\n",
    "(1 + sentiment_returns.cumsum()).plot(figsize=(12, 8))"
   ]
  },
  {
   "cell_type": "markdown",
   "metadata": {},
   "source": [
    "#### Found that apporx after the year 2008, Quintile_4 has higher positive tone rather than Quintile_5 and Quintile_2 has lowest returns."
   ]
  },
  {
   "cell_type": "code",
   "execution_count": null,
   "metadata": {},
   "outputs": [],
   "source": []
  },
  {
   "cell_type": "markdown",
   "metadata": {},
   "source": [
    "# Testing & Validating the Hypothesis\n",
    "\n",
    "Our hypothesis can be tested and validated by comparing the test-statistic to a critical value (In this case critical value is 2). The t-stat can be estimated by...\n",
    "\n",
    "$$\n",
    "tStat = \\frac{\\overline{x}_{d_{j,k}}}{\\hat{\\sigma}_{d_{j,k}} \\mathbin{/} \\sqrt{n}}\n",
    "$$\n",
    "\n",
    "Where:  \n",
    "$\\overline{x}_{d_{j,k}} =$ Mean of the difference between the values of group $j$ and $k$  \n",
    "$\\hat{\\sigma}_{d_{j,k}} =$ Sample standard deviation of the difference between the values of group $j$ and $k$  \n",
    "$n = $ Number of observations in the time series"
   ]
  },
  {
   "cell_type": "code",
   "execution_count": 48,
   "metadata": {},
   "outputs": [],
   "source": [
    "from scipy import stats"
   ]
  },
  {
   "cell_type": "code",
   "execution_count": 50,
   "metadata": {},
   "outputs": [],
   "source": [
    "# Estimating the tStat\n",
    "\n",
    "mean_difference = (sentiment_returns['quintile_5'] - sentiment_returns['quintile_1']).mean()\n",
    "std_difference = (sentiment_returns['quintile_5'] - sentiment_returns['quintile_1']).std()\n",
    "t_stat = mean_difference / (std_difference / np.sqrt(len(sentiment_returns)))"
   ]
  },
  {
   "cell_type": "code",
   "execution_count": 51,
   "metadata": {},
   "outputs": [
    {
     "data": {
      "text/plain": [
       "0.11888488826821002"
      ]
     },
     "execution_count": 51,
     "metadata": {},
     "output_type": "execute_result"
    }
   ],
   "source": [
    "# Check whether we can reject the null (i.e., if the t_stat >= 2)\n",
    "\n",
    "t_stat"
   ]
  },
  {
   "cell_type": "markdown",
   "metadata": {},
   "source": [
    "### So, based on the experiment with this sample, I am unable to reject null hyposthesis i.e. \n",
    "**Returns of firms with stronger net positive tone have not statistically greater than the returns of firms with weaker net positive tone.**\n",
    "\n",
    "While our core hypothesis doesn’t hold, we found some evidence to suggest that firms with stronger Positive tone firms do outperform those with weaker Psotive tone firms, during times of crisis (given a statistically higher return)."
   ]
  },
  {
   "cell_type": "code",
   "execution_count": null,
   "metadata": {},
   "outputs": [],
   "source": []
  }
 ],
 "metadata": {
  "kernelspec": {
   "display_name": "Python 3",
   "language": "python",
   "name": "python3"
  },
  "language_info": {
   "codemirror_mode": {
    "name": "ipython",
    "version": 3
   },
   "file_extension": ".py",
   "mimetype": "text/x-python",
   "name": "python",
   "nbconvert_exporter": "python",
   "pygments_lexer": "ipython3",
   "version": "3.8.5"
  }
 },
 "nbformat": 4,
 "nbformat_minor": 4
}
