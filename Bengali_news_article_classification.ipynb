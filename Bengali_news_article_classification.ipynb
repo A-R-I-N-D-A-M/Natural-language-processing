{
  "nbformat": 4,
  "nbformat_minor": 0,
  "metadata": {
    "colab": {
      "name": "Bengali news article classification.ipynb",
      "provenance": [],
      "mount_file_id": "1SkwSXdc91QCCGqF-mvFvfk2TYprR8GtX",
      "authorship_tag": "ABX9TyM8A70Js9SatalyzkiH2l2t",
      "include_colab_link": true
    },
    "kernelspec": {
      "name": "python3",
      "display_name": "Python 3"
    },
    "language_info": {
      "name": "python"
    },
    "accelerator": "GPU"
  },
  "cells": [
    {
      "cell_type": "markdown",
      "metadata": {
        "id": "view-in-github",
        "colab_type": "text"
      },
      "source": [
        "<a href=\"https://colab.research.google.com/github/A-R-I-N-D-A-M/Natural-language-processing/blob/main/Bengali_news_article_classification.ipynb\" target=\"_parent\"><img src=\"https://colab.research.google.com/assets/colab-badge.svg\" alt=\"Open In Colab\"/></a>"
      ]
    },
    {
      "cell_type": "code",
      "metadata": {
        "id": "hlIIXWk15j6E"
      },
      "source": [
        "import json\n",
        "import os\n",
        "import re\n",
        "import string\n",
        "import numpy as np\n",
        "import pandas as pd\n",
        "from gensim.models import Word2Vec\n",
        "import matplotlib.pyplot as plt\n",
        "import seaborn as sns\n",
        "sns.set()"
      ],
      "execution_count": 53,
      "outputs": []
    },
    {
      "cell_type": "code",
      "metadata": {
        "id": "GstdtCuMz-cL"
      },
      "source": [
        "def extract_text(filename, field):\n",
        "    \n",
        "    extracted_field=[]\n",
        "    \n",
        "    with open(os.path.join(filename), 'r') as f:\n",
        "        articles=json.load(f)\n",
        "    \n",
        "    for article in articles['articles']:\n",
        "        extracted_field.append(article[field].strip())\n",
        "    \n",
        "    return extracted_field\n",
        "\n",
        "def replace_strings(texts, replace):\n",
        "    new_texts=[]\n",
        "    \n",
        "    emoji_pattern = re.compile(\"[\"\n",
        "                           u\"\\U0001F600-\\U0001F64F\"  # emoticons\n",
        "                           u\"\\U0001F300-\\U0001F5FF\"  # symbols & pictographs\n",
        "                           u\"\\U0001F680-\\U0001F6FF\"  # transport & map symbols\n",
        "                           u\"\\U0001F1E0-\\U0001F1FF\"  # flags (iOS)\n",
        "                           u\"\\U00002702-\\U000027B0\"\n",
        "                           u\"\\U000024C2-\\U0001F251\"\n",
        "                           \"]+\", flags=re.UNICODE)\n",
        "    english_pattern=re.compile('[a-zA-Z0-9]+', flags=re.I)\n",
        "    \n",
        "    for text in texts:\n",
        "        for r in replace:\n",
        "            text=text.replace(r[0], r[1])\n",
        "        text=emoji_pattern.sub(r'', text)\n",
        "        text=english_pattern.sub(r'', text)\n",
        "        text=re.sub(r'\\s+', ' ', text).strip()\n",
        "        new_texts.append(text)\n",
        "\n",
        "    return new_texts\n",
        "\n",
        "def remove_punc(sentences):\n",
        "    # import ipdb; ipdb.set_trace()\n",
        "    new_sentences=[]\n",
        "    exclude = list(set(string.punctuation))\n",
        "    exclude.extend([\"’\", \"‘\", \"—\"])\n",
        "    for sentence in sentences:\n",
        "        s = ''.join(ch for ch in sentence if ch not in exclude)\n",
        "        new_sentences.append(s)\n",
        "    \n",
        "    return new_sentences\n",
        "\n",
        "replace=[('\\u200c', ' '),\n",
        "         ('\\u200d', ' '),\n",
        "        ('\\xa0', ' '),\n",
        "        ('\\n', ' '),\n",
        "        ('\\r', ' ')]"
      ],
      "execution_count": 63,
      "outputs": []
    },
    {
      "cell_type": "code",
      "metadata": {
        "id": "cCTRf5ZB0uTn"
      },
      "source": [
        "ABP_body=extract_text('/content/drive/MyDrive/Dataset/News Articles/anandabazar_articles.txt', 'body')\n",
        "ABP_body=remove_punc(ABP_body)\n",
        "ABP_body=replace_strings(ABP_body, replace)"
      ],
      "execution_count": 71,
      "outputs": []
    },
    {
      "cell_type": "code",
      "metadata": {
        "colab": {
          "base_uri": "https://localhost:8080/"
        },
        "id": "8Mw3mRJD05_o",
        "outputId": "2d35bf92-ad44-4c48-c34b-b9397341ce5a"
      },
      "source": [
        "ABP_body[:5]"
      ],
      "execution_count": null,
      "outputs": [
        {
          "output_type": "execute_result",
          "data": {
            "text/plain": [
              "['জঙ্গি হটাতে যুদ্ধের ডাক দিয়েছিলেন আগেই। এ বার পশ্চিম এশিয়ায় শান্তি স্থাপনের জন্য যত দূর সম্ভব চেষ্টা করবেন বলে আশ্বাস দিলেন মার্কিন প্রেসিডেন্ট ডোনাল্ড ট্রাম্প। গত তিন বছরে একটি বারের জন্যও এক টেবিলে বসেনি ইজরায়েলপ্যালেস্তাইন। সন্ধি নিয়ে একটাও কথা হয়নি যুযুধান দুই দেশে। ট্রাম্প তবু শান্তি ফেরাতেই জেরুজালেম থেকে আজ সরাসরি পা রাখলেন বেথলেহেমে। বিষয়টা যে কঠিন তা মেনে নিয়েই। গত কাল এ নিয়ে ইজরায়েলি প্রধানমন্ত্রী বেঞ্জামিন নেতানিয়াহুর সঙ্গে এক প্রস্ত কথা হয় তাঁর। নেতানিয়াহুর তরফে সাড়া মিলতেই উৎসাহী ট্রাম্প আজ পৌঁছে যান ইজরায়েল অধিকৃত ওয়েস্ট ব্যাঙ্কে। গাড়িতে পাক্কা কুড়ি মিনিটের রাস্তা। মাঝখানে পেরিয়ে আসেন দুদেশের মাঝের বহু বিতর্কিত বিচ্ছেদের দেওয়াল। মার্কিন প্রেসিডেন্টের এই সফর ঘিরে প্যালেস্তাইনিদের একাংশ বিক্ষোভ শুরু করেছেন গাজা আর ওয়েস্ট ব্যাঙ্কে। তবু বেথলেহেমে ট্রাম্পের গাড়ি ঢুকতেই চোখে পড়ল পোস্টার শান্তির দূতকে স্বাগত জানাচ্ছে শান্তির শহর। তা হলে কি প্যালেস্তাইনও রাজি সরাসরি কেউ মুখ না খুললেও তেমনটাই মনে করছেন কূটনীতিকরা। সাংবাদিকদের প্রশ্নের উত্তরে ট্রাম্পের সফরসঙ্গী মার্কিন বিদেশসচিব রেক্স টিলারসনও জানালেন মধ্যস্থতাকারী আমেরিকাতে টেবিলে রেখেই পরে কখনও আলোচনায় বসতে পারে দুই দেশ। বেথলেহেমে ট্রাম্প দেখা করেন প্যালেস্তাইনি রাষ্ট্রপ্রধান মাহমুদ আব্বাসের সঙ্গে। মার্কিন প্রেসিডেন্টের এই সফরের উদ্দেশ্যকে মহান বলে উল্লেখ করেছেন আব্বাস। নেতানিয়াহু কাল বলেছিলেন পশ্চিম এশিয়ায় শান্তি চেয়ে ট্রাম্প যে বার্তা দিয়েছেন আমরাও তার অংশীদার হতে রাজি। চাইব এই অঞ্চলে তাঁর প্রথম সফর শান্তিস্থাপনের ক্ষেত্রে মাইলফলক হয়ে থাকুক। আজ আব্বাসের কথাতেও সন্ধিতে সায় দেওয়ার সুর।',\n",
              " 'শাসকদলের গোষ্ঠীকোন্দলের জেরে সোমবার চাষিদের নথিপত্র জমা দেওয়ার ক্যাম্প বেড়াবেড়ি থেকে সরে গিয়েছিল সিঙ্গুর বিডিও অফিসে। এ নিয়ে বেড়াবেড়ি এলাকার চাষিদের ক্ষোভ সামাল দিতে মঙ্গলবার ফের চালু হয়েছে সেখানের ক্যাম্পটি। বিডিও অফিসের ক্যাম্পটিও অবশ্য এ দিন চালু রাখা হয়েছে। প্রশাসন সূত্রের খবর এ দিন মোট ১১০ জন জমির কাগজপত্র জমা দিয়েছেন। সুপ্রিম কোর্টের রায়ের পরই সিঙ্গুরে টাটাদের প্রকল্প এলাকায় একাধিক মন্ত্রী ঘুরে গিয়েছেন। মঙ্গলবার শিক্ষামন্ত্রী পার্থ চট্টোপাধ্যায় প্রকল্প এলাকায় এসে কাজের অগ্রগতি তদারকি করেন। তিনি বলেন “কাজের অগ্রগতি ভাল। প্রচুর সংখ্যক কর্মী কাজ করছেন। বেশ কিছু এলাকায় আগাছা সাফ করা হয়েছে।”',\n",
              " 'শিক্ষার সর্বস্তরে শিক্ষকশিক্ষিকাদের হাজিরায় বিশেষ নজর দেওয়ার কথা তিনি বারবার বলেছেন। এ বার কলেজবিশ্ববিদ্যালয়ে নতুন চয়েস বেসড ক্রেডিট সিস্টেম সিবিসিএস বা পছন্দসই মিশ্র পাঠ ব্যবস্থা সফল করার জন্য শিক্ষকশিক্ষিকাদের গরহাজির থাকার প্রবণতা বন্ধ করতে হবে বলে সরাসরি জানিয়ে দিলেন শিক্ষামন্ত্রী পার্থ চট্টোপাধ্যায়। মঙ্গলবার বিকাশ ভবনে উচ্চশিক্ষা সংসদের বৈঠকে ছিলেন রাজ্যের বিভিন্ন বিশ্ববিদ্যালয়ের উপাচার্যেরা। সেই বৈঠকের পরে পার্থবাবু হাজিরা নিয়ে ফের সতর্ক করে দেন। শিক্ষামন্ত্রী জানান ২০১৮১৯ শিক্ষাবর্ষে সব বিশ্ববিদ্যালয়ে সিবিসিএস চালু করতে হবে। তার আগে ভাল রকমের প্রচার দরকার। সেই সঙ্গেই উঠে আসে শিক্ষকশিক্ষিকা এবং পড়ুয়াদের হাজিরার বিষয়টি। শিক্ষামন্ত্রী বৈঠকের পরে বলেন হাজিরার উপরে জোর দিয়েছি। এই বিষয়ে আলাপআলোচনার কথা বলেছি। কারণ উৎকর্ষ নির্ভর করে নিয়মিত ক্লাসের উপরে। কলেজবিশ্ববিদ্যালয়ের ছুটি কমানোর প্রসঙ্গও ওঠে এ দিন। শিক্ষামন্ত্রী বিভিন্ন বিশ্ববিদ্যালয়ের লিভ রুল বা ছুটির নিয়মবিধি খতিয়ে দেখতে বলেন। তিনি জানান এই বিষয়ে কমন রুল বা সকলের জন্য একটি সাধারণ নিয়মবিধি থাকলে ভাল হয়। রাজ্য সরকার ২০১৩ সালে যাদবপুর বিশ্ববিদ্যালয়ের উপাচার্য সুরঞ্জন দাসকে একটি মডেল স্ট্যাটিউট বা আদর্শ বিধিনিয়ম তৈরির দায়িত্ব দিয়েছিল। কিন্তু সেটি এখনও তৈরি হয়নি বলে জানান শিক্ষামন্ত্রী। গত অগস্টে উপাচার্যদের সঙ্গে বৈঠকেও সিবিসিএস চালু করার উপরে গুরুত্ব দিয়েছিলেন শিক্ষামন্ত্রী। কলকাতা বিশ্ববিদ্যালয়ের উপাচার্য সোনালি চক্রবর্তী বন্দ্যোপাধ্যায় কলা বাণিজ্য বিজ্ঞান বিভাগে একসঙ্গে পছন্দসই মিশ্র পাঠ চালু করা সম্ভব নয় বলে জানিয়েছিলেন। মন্ত্রী জানান কলকাতা বিশ্ববিদ্যালয় ২০১৮১৯ শিক্ষাবর্ষেই সব বিভাগে সিবিসিএস চালু করবে বলে সোনালিদেবী এ দিনের বৈঠকে জানিয়েছেন। এ দিন কলেজবিশ্ববিদ্যালয়ে শিক্ষক নিয়োগের উপরে জোর দেন পার্থবাবু। তিনি উপাচার্যদের জানান বারবার নির্দেশ দেওয়া সত্ত্বেও কলেজ সার্ভিস কমিশন সিএসসিকে শূন্য পদের তালিকা দেওয়া হচ্ছে না। কয়েকটি ক্ষেত্রে সংরক্ষিত আসন ফাঁকা বলে জানান শিক্ষামন্ত্রী। যাদবপুর বিশ্ববিদ্যালয়ের পূর্ণ স্বশাসন পাওয়ার বিষয়টিও বৈঠকে ওঠে। শিক্ষা সূত্রের খবর অন্য এক বিশ্ববিদ্যালয়ের উপাচার্য একটি নামী বিদেশি বিশ্ববিদ্যালয়ের সঙ্গে যাদবপুরের তুলনা করেন। শিক্ষামন্ত্রী তখন বলেন যাদবপুর বিক্ষোভ দেখাতে তো এক নম্বরে স্পষ্টই তাঁর কটাক্ষের লক্ষ্য যাদবপুরের পড়ুয়ারা। শিক্ষামন্ত্রী বলেন এই স্বশাসন পেলে কেন্দ্র নাকি আর্থিক সাহায্য করবে। আগে করুক কেন্দ্র তো শিক্ষায় আমাদের প্রাপ্য টাকারই ৩০ শতাংশের বেশি দেয় না। শিক্ষামন্ত্রী সব বিশ্ববিদ্যালয়কেই ন্যাশনাল অ্যাসেসমেন্ট অ্যান্ড অ্যাক্রিডিটেশন কাউন্সিল বা নাকএর মূল্যায়ন প্রক্রিয়ায় যুক্ত হওয়ার নির্দেশ দেন। নাকএর মূল্যায়নে নির্দিষ্ট নম্বর নাপেলে দূরশিক্ষা চালানো যাবে না বলে জানিয়েছে কেন্দ্র। এই বিষয়ে বর্ধমান কল্যাণী এবং অন্যান্য বিশ্ববিদ্যালয়কে মানবসম্পদ উন্নয়ন মন্ত্রকের কাছে আবেদন জানাতে বলেন শিক্ষামন্ত্রী। তিনি কলেজের শিক্ষকশিক্ষাকর্মীদের জন্য ইপেনশনের ওয়েবসাইটের উদ্বোধন করেন। এই প্রক্রিয়া চালু হবে ২ এপ্রিল।',\n",
              " 'এখন সোশ্যাল মিডিয়া ছাড়া ভাবাই যায় না। কোনও ঘটনা ঘটলেই চট করে সোশ্যাল মিডিয়ায় শেয়ার করে দেওয়া যেন একটা অভ্যাসে পরিণত হয়ে গিয়েছে। ফেসবুক তো আছেই এখন যোগাযোগের আরও বেশি শক্তিশালী মিডিয়া হয়ে দেখা দিয়েছে হোয়াট্সঅ্যাপ। এই হোয়াট্ সঅ্যাপের মাধ্যমে নিমেষে ছবি জোকস এবং নানা তথ্য বন্ধুবান্ধবদের মধ্যে নিমেষে শেয়ার হয়ে যাচ্ছে। এখন আবার ট্রেন্ড বেড়েছে হোয়াট ্সঅ্যাপ গ্রুপের। তা সে স্কুলকলেজের বন্ধু পরিবারের সদস্য বা অফিসের গ্রুপ হোক না কেন আগে যেমন এক জায়গায় বসে আড্ডা মারা হত এখন হোয়াট্সঅ্যাপ গ্রুপ তৈরি করে ডিজিটাল আড্ডা মারা হয়। কিন্তু এই ডি়জিটাল আড্ডার যেমন মজা আছে তেমন অনেক ঝক্কিও আছে। তেমনই ঝক্কির মুখে পড়ে ঘনিষ্ঠদের হোয়াট্সঅ্যাপ গ্রুপ থেকে নিজেকে সরিয়ে নিলেন মুম্বইয়ের এক তরুণী। এবং ওই হোয়াটসঅ্যাপ পরিবারএর জন্য খুব সুন্দর একটা বার্তাও শেয়ার করেন তিনি। হোয়াট ্সঅ্যাপ গ্রুপের সদস্য হওয়ার কারণে বিভিন্ন রকম পোস্ট আসতে শুরু করে তাঁর কাছে। কিছু কিছু ক্ষেত্রে সেই পোস্ট শালীনতার সীমাও অতিক্রম করে গিয়েছে বলে দাবি ওই তরুণীর। এ ধরনের পোস্টে রীতিমতো বিরক্ত হয়ে সদস্যদের উদ্দেশে পাল্টা এক বার্তা পোস্ট করেন। সেই পোস্টটা তিনি টুইটারেও শেয়ার করেন। যা এখন ভাইরাল। দুঃখিত এই গ্রুপে আর থাকতে পারলাম না। সত্যি কথা বলতে কী গ্রুপে যে ধরনের তথ্য আসছিল তার সঙ্গে মানিয়ে নিতে পারছিলাম না। প্রত্যেকেরই একটা নিজস্ব সীমা আছে। হাসির ছলে শেয়ার করা হলেও অনেক ক্ষেত্রে পোস্টগুলো শালীনতার মাত্রা ছাড়িয়ে যাচ্ছে। এ বিষয়ে কারও ধারণা পরিবর্তন করা আমার উদ্দেশ্য নয়। যে হেতু এই বিষয়গুলো কোথাও গিয়ে আমার রুচিকে আহত করছে তাই আমাকে এই গ্রুপ ছেড়ে চলে যাওয়ার অনুমতি দেওয়া হোক। ব্যক্তিগত ভাবে চ্যাট করার জন্য আমাকে সর্বদাই পাবে। আমি তোমাদের প্রক্যেককেই ভালবাসি প্রত্যেকের প্রতি আমার গভীর শ্রদ্ধা রয়েছে। আমার এই লেখাকে অতিশয়োক্তি হিসাবে না দেখলেই খুশি হব।',\n",
              " 'তদন্তের গতিপ্রকৃতি নিয়ে আদালতে প্রশ্ন ওঠার পর থেকে সারদা গোষ্ঠীর আর্থিক কেলেঙ্কারি নিয়ে নড়েচড়ে বসেছিল সিবিআই। চার দিন আগে সারদা মামলায় মিডিয়া ব্যবসায়ী রমেশ গাঁধীকে নিজেদের হেফাজতে নেওয়ার পরে এ বার রোজ ভ্যালির দুই কর্তাকে গ্রেফতার করল তারা। সিবিআই সূত্রের খবর শুক্রবার জিজ্ঞাসাবাদের জন্য ডেকে পাঠানো হয়েছিল রোজ ভ্যালির দুই কর্তা শিবময় দত্ত ও অশোককুমার সাহাকে। জিজ্ঞাসাবাদের জবাবে ওই দুজন যা বলেছেন তাতে অসঙ্গতি থাকায় বিকেলে তাঁদের গ্রেফতারের সিদ্ধান্ত নেন তদন্তকারীরা। রোজ ভ্যালির বিরুদ্ধে বাজার থেকে প্রায় ১০ হাজার কোটি টাকা তোলা তহবিল তছরুপের অভিযোগ রয়েছে। সেই অভিযোগে ইতিমধ্যেই ওই সংস্থার কর্ণধার গৌতম কুণ্ডু এবং কর্মী ইউনিয়নের এক নেতাকে গ্রেফতার করেছে এনফোর্সমেন্ট ডিরেক্টরেট বা ইডি। ওই একই অভিযোগে এ দিন দুই কর্তাকে গ্রেফতার করেন সিবিআই। একটি সূত্রের দাবি রোজ ভ্যালির কাজকর্মে মালিককে সক্রিয় ভাবে সহযোগিতা করেছেন শিবময় ও অশোক। তাঁরা যথাক্রমে পশ্চিমবঙ্গ ও ত্রিপুরায় সংস্থার দায়িত্বে ছিলেন। আজ শনিবার ধৃতদের আদালতে পেশ করবে সিবিআই। সারদা কাণ্ডে ধৃত মিডিয়া ব্যবসায়ী রমেশ গাঁধীকে এ দিন ফের সিবিআই হেফাজতে রাখার নির্দেশ দিয়েছে আদালত। সিবিআইয়ের আইনজীবী পার্থসারথি দত্ত আদালতে জানান সিবিআই বৃহস্পতিবার রমেশের অফিসে হানা দিয়ে বেশ কিছু নথিপত্র বাজেয়াপ্ত করেছে। ওই তথ্য যাচাই করা দরকার। তা ছাড়া রমেশকে নিয়ে আরও তল্লাশি চালানোরও প্রয়োজন আছে। তাই অভিযুক্তকে আরও পাঁচ দিন তাঁদের হেফাজতে রাখার অনুমতি দেওয়া হোক। অভিযুক্তের আইনজীবী সঞ্জয় দাশগুপ্ত বলেন তাঁর মক্কেল খুবই অসুস্থ। তাঁকে জামিন দেওয়া হোক। তিনি সিবিআইয়ের সঙ্গে যথাসাধ্য সহযোগিতা করছেন। যদিও সিবিআইয়ের আইনজীবী পার্থবাবুর অভিযোগ রমেশ তদন্তে কোনও সহযোগিতাই করছেন না। দুপক্ষের বক্তব্য শুনে আলিপুরের অতিরিক্ত মুখ্য বিচার বিভাগীয় আদালতের ভারপ্রাপ্ত বিচারক পবিত্র সেন নির্দেশ দেন রমেশকে ১৫ সেপ্টেম্বর পর্যন্ত সিবিআইয়ের হেফাজতে রাখতে হবে।']"
            ]
          },
          "metadata": {
            "tags": []
          },
          "execution_count": 7
        }
      ]
    },
    {
      "cell_type": "code",
      "metadata": {
        "id": "hwl1r-NY1YxM"
      },
      "source": [
        "ebala_body=extract_text('/content/drive/MyDrive/Dataset/News Articles/ebala_articles.txt', 'body')\n",
        "ebala_body=remove_punc(ebala_body)\n",
        "ebala_body=replace_strings(ebala_body, replace)"
      ],
      "execution_count": 72,
      "outputs": []
    },
    {
      "cell_type": "code",
      "metadata": {
        "id": "uYgztc7_1YeB"
      },
      "source": [
        "zee_body=extract_text('/content/drive/MyDrive/Dataset/News Articles/zeenews_articles.txt', 'body')\n",
        "zee_body=remove_punc(zee_body)\n",
        "zee_body=replace_strings(zee_body, replace)"
      ],
      "execution_count": 73,
      "outputs": []
    },
    {
      "cell_type": "code",
      "metadata": {
        "colab": {
          "base_uri": "https://localhost:8080/"
        },
        "id": "PJfJWcEl1w37",
        "outputId": "d5b77715-596c-4e29-df4e-77fdfc30a79c"
      },
      "source": [
        "body=[]\n",
        "body.extend(zee_body)\n",
        "body.extend(ABP_body)\n",
        "body.extend(ebala_body)\n",
        "print('Total length of training data :',len(body))"
      ],
      "execution_count": 80,
      "outputs": [
        {
          "output_type": "stream",
          "text": [
            "Total length of training data : 14205\n"
          ],
          "name": "stdout"
        }
      ]
    },
    {
      "cell_type": "code",
      "metadata": {
        "colab": {
          "base_uri": "https://localhost:8080/"
        },
        "id": "rDbpkJ2P3KYt",
        "outputId": "d432c54a-b24b-40ea-b4fc-08f10d366ba9"
      },
      "source": [
        "body=[article.split('।') for article in body]\n",
        "body=[item for sublist in body for item in sublist]#\n",
        "body=[item.strip() for item in body if len(item.split())>2]\n",
        "\n",
        "#body=[item.split() for item in body]\n",
        "\n",
        "print(body[:10])"
      ],
      "execution_count": 81,
      "outputs": [
        {
          "output_type": "stream",
          "text": [
            "['যা আমাদের ত্যাগের দিকে তপস্যার দিকে নিয়ে যায় তাকেই বলি মনুষ্যত্ব মানুষের ধর্ম', 'এইরকমই এক ধর্মের কথা ভেবেছিলেন রবীন্দ্রনাথ', 'কিন্তু কী ত্যাগ কিসেরই বা তপস্যা রবীন্দ্রনাথ তাকে বলছেন যেখানে আমিকে নাআমির দিকে ছাড়তে বাধা পাই তাকে অহং বেড়ায় বিচ্ছিন্ন সীমাবদ্ধ করে দেখি', 'এক আত্মলোকে সকল আত্মর অভিমুখে আত্মার সত্য এই সত্যের আদর্শেই বিচার করতে হবে মানুষের সভ্যতা', 'মানুষের দায় মহামানবের দায় কোথাও তার সীমা নেই', 'রবীন্দ্রনাথ যাকে বলছেন মহামানবের দায় তা হল আমি থেকে নাআমিতে পৌঁছনো', 'আবরণময় আমিকে আবরণমুক্ত আত্মতে উত্তরণ', 'সেটাই তাঁর সাধনা', 'রবীন্দ্রনাথ যাকে বলেন হওয়া বা হয়ে ওঠা', 'এই হয়ে ওঠার সাধনাই রবীন্দ্রনাথের জীবনজুড়ে তাঁর সমগ্র রচনার ধারণশক্তি']\n"
          ],
          "name": "stdout"
        }
      ]
    },
    {
      "cell_type": "code",
      "metadata": {
        "id": "nT8mINfJ3NVi"
      },
      "source": [
        "model=word2vec.Word2Vec(body, size=200, window=10, min_count=1)"
      ],
      "execution_count": 82,
      "outputs": []
    },
    {
      "cell_type": "code",
      "metadata": {
        "colab": {
          "base_uri": "https://localhost:8080/"
        },
        "id": "BCdSWdpv32xm",
        "outputId": "dcedb888-1302-404d-ea99-13595df5df7e"
      },
      "source": [
        "model.wv.similarity('বাঙালি', 'মিষ্টি')"
      ],
      "execution_count": null,
      "outputs": [
        {
          "output_type": "execute_result",
          "data": {
            "text/plain": [
              "0.699025"
            ]
          },
          "metadata": {
            "tags": []
          },
          "execution_count": 17
        }
      ]
    },
    {
      "cell_type": "code",
      "metadata": {
        "colab": {
          "base_uri": "https://localhost:8080/"
        },
        "id": "rPXccOcP4NBW",
        "outputId": "7907da5b-8c52-4cfd-b236-00ecb1a73e6d"
      },
      "source": [
        "model.wv.similarity('বিহারি', 'মিষ্টি')"
      ],
      "execution_count": null,
      "outputs": [
        {
          "output_type": "execute_result",
          "data": {
            "text/plain": [
              "0.5429312"
            ]
          },
          "metadata": {
            "tags": []
          },
          "execution_count": 18
        }
      ]
    },
    {
      "cell_type": "code",
      "metadata": {
        "id": "My6j4Zv04WYh"
      },
      "source": [
        "model.wv.save_word2vec_format('/content/drive/MyDrive/Dataset/News Articles/custom_glove_200d.txt')"
      ],
      "execution_count": null,
      "outputs": []
    },
    {
      "cell_type": "code",
      "metadata": {
        "id": "A88xz9GM4pEd"
      },
      "source": [
        ""
      ],
      "execution_count": null,
      "outputs": []
    },
    {
      "cell_type": "code",
      "metadata": {
        "id": "JLIyVqCA4pmk"
      },
      "source": [
        "def extract_text(filename, label, body):\n",
        "    \n",
        "    extracted_label=[]\n",
        "    extracted_body=[]\n",
        "    \n",
        "    with open(os.path.join(filename), 'r') as f:\n",
        "        articles=json.load(f)\n",
        "    \n",
        "    for article in articles['articles']:\n",
        "        extracted_label.append(article[label].strip())\n",
        "        extracted_body.append(article[body].strip())\n",
        "\n",
        "    \n",
        "    return extracted_label,extracted_body\n"
      ],
      "execution_count": 2,
      "outputs": []
    },
    {
      "cell_type": "code",
      "metadata": {
        "id": "k1KQF_jZSXuh"
      },
      "source": [
        "ABP_label,ABP_body=extract_text('/content/drive/MyDrive/Dataset/News Articles/anandabazar_articles.txt','label','body')\n",
        "ebala_label,ebala_body=extract_text('/content/drive/MyDrive/Dataset/News Articles/ebala_articles.txt','label','body')\n",
        "zee_label,zee_body=extract_text('/content/drive/MyDrive/Dataset/News Articles/zeenews_articles.txt','label','body')"
      ],
      "execution_count": 3,
      "outputs": []
    },
    {
      "cell_type": "code",
      "metadata": {
        "id": "ldMWbfbDYvXT"
      },
      "source": [
        "body=[]\n",
        "body.extend(zee_body)\n",
        "body.extend(ABP_body)\n",
        "body.extend(ebala_body)\n",
        "\n",
        "label=[]\n",
        "label.extend(zee_label)\n",
        "label.extend(ABP_label)\n",
        "label.extend(ebala_label)"
      ],
      "execution_count": 4,
      "outputs": []
    },
    {
      "cell_type": "code",
      "metadata": {
        "id": "2vTl8BgTYu9z"
      },
      "source": [
        "df=pd.DataFrame(columns=['label','body'])"
      ],
      "execution_count": 8,
      "outputs": []
    },
    {
      "cell_type": "code",
      "metadata": {
        "id": "SK7CnYO_b4Vo"
      },
      "source": [
        "df['label']=label\n",
        "df['body']=body"
      ],
      "execution_count": 9,
      "outputs": []
    },
    {
      "cell_type": "code",
      "metadata": {
        "colab": {
          "base_uri": "https://localhost:8080/",
          "height": 419
        },
        "id": "JjDJAN9Kb6qE",
        "outputId": "46649c7f-5a24-4ed2-d0ff-1e0804dde3f0"
      },
      "source": [
        "df"
      ],
      "execution_count": 10,
      "outputs": [
        {
          "output_type": "execute_result",
          "data": {
            "text/html": [
              "<div>\n",
              "<style scoped>\n",
              "    .dataframe tbody tr th:only-of-type {\n",
              "        vertical-align: middle;\n",
              "    }\n",
              "\n",
              "    .dataframe tbody tr th {\n",
              "        vertical-align: top;\n",
              "    }\n",
              "\n",
              "    .dataframe thead th {\n",
              "        text-align: right;\n",
              "    }\n",
              "</style>\n",
              "<table border=\"1\" class=\"dataframe\">\n",
              "  <thead>\n",
              "    <tr style=\"text-align: right;\">\n",
              "      <th></th>\n",
              "      <th>label</th>\n",
              "      <th>body</th>\n",
              "    </tr>\n",
              "  </thead>\n",
              "  <tbody>\n",
              "    <tr>\n",
              "      <th>0</th>\n",
              "      <td>kolkata</td>\n",
              "      <td>‘’যা আমাদের ত্যাগের দিকে, তপস্যার দিকে নিয়ে যা...</td>\n",
              "    </tr>\n",
              "    <tr>\n",
              "      <th>1</th>\n",
              "      <td>kolkata</td>\n",
              "      <td>রবিবার সন্ধে ছটা নাগাদ বন্ধুবান্ধবদের সঙ্গে কফ...</td>\n",
              "    </tr>\n",
              "    <tr>\n",
              "      <th>2</th>\n",
              "      <td>kolkata</td>\n",
              "      <td>ফের বদলি আমলা। উন্নয়নের কাজে বাধা দিচ্ছেন, এই ...</td>\n",
              "    </tr>\n",
              "    <tr>\n",
              "      <th>3</th>\n",
              "      <td>kolkata</td>\n",
              "      <td>শোভন চট্টোপাধ্যায়ের ইস্তফার নেপথ্যে বৈশাখী বন্...</td>\n",
              "    </tr>\n",
              "    <tr>\n",
              "      <th>4</th>\n",
              "      <td>kolkata</td>\n",
              "      <td>বড়দিনেও এবার ব্রাত্য শীত। ঠান্ডা আছে ঠিকই। কি...</td>\n",
              "    </tr>\n",
              "    <tr>\n",
              "      <th>...</th>\n",
              "      <td>...</td>\n",
              "      <td>...</td>\n",
              "    </tr>\n",
              "    <tr>\n",
              "      <th>14200</th>\n",
              "      <td>sports</td>\n",
              "      <td>বিরাট কোহলির ভারতীয় দলের গুরুত্বপূর্ণ সদস্য তি...</td>\n",
              "    </tr>\n",
              "    <tr>\n",
              "      <th>14201</th>\n",
              "      <td>entertainment</td>\n",
              "      <td>‘বাজিরাও মস্তানি’ (২০১৪) ছবিতে দিওয়ানি গানটিতে...</td>\n",
              "    </tr>\n",
              "    <tr>\n",
              "      <th>14202</th>\n",
              "      <td>sports</td>\n",
              "      <td>১৭ জুন: রাশিয়া বিশ্বকাপের অন্যতম ফেভারিট মনে ক...</td>\n",
              "    </tr>\n",
              "    <tr>\n",
              "      <th>14203</th>\n",
              "      <td>sports</td>\n",
              "      <td>১. রোহিত শর্মা বনাম শাজিল খান- রোহিত এগিয়ে\\n২....</td>\n",
              "    </tr>\n",
              "    <tr>\n",
              "      <th>14204</th>\n",
              "      <td>entertainment</td>\n",
              "      <td>বলিউডে পা রাখার আগে থেকেই তাঁর প্রেমিক চরিত্র ...</td>\n",
              "    </tr>\n",
              "  </tbody>\n",
              "</table>\n",
              "<p>14205 rows × 2 columns</p>\n",
              "</div>"
            ],
            "text/plain": [
              "               label                                               body\n",
              "0            kolkata  ‘’যা আমাদের ত্যাগের দিকে, তপস্যার দিকে নিয়ে যা...\n",
              "1            kolkata  রবিবার সন্ধে ছটা নাগাদ বন্ধুবান্ধবদের সঙ্গে কফ...\n",
              "2            kolkata  ফের বদলি আমলা। উন্নয়নের কাজে বাধা দিচ্ছেন, এই ...\n",
              "3            kolkata  শোভন চট্টোপাধ্যায়ের ইস্তফার নেপথ্যে বৈশাখী বন্...\n",
              "4            kolkata  বড়দিনেও এবার ব্রাত্য শীত। ঠান্ডা আছে ঠিকই। কি...\n",
              "...              ...                                                ...\n",
              "14200         sports  বিরাট কোহলির ভারতীয় দলের গুরুত্বপূর্ণ সদস্য তি...\n",
              "14201  entertainment  ‘বাজিরাও মস্তানি’ (২০১৪) ছবিতে দিওয়ানি গানটিতে...\n",
              "14202         sports  ১৭ জুন: রাশিয়া বিশ্বকাপের অন্যতম ফেভারিট মনে ক...\n",
              "14203         sports  ১. রোহিত শর্মা বনাম শাজিল খান- রোহিত এগিয়ে\\n২....\n",
              "14204  entertainment  বলিউডে পা রাখার আগে থেকেই তাঁর প্রেমিক চরিত্র ...\n",
              "\n",
              "[14205 rows x 2 columns]"
            ]
          },
          "metadata": {
            "tags": []
          },
          "execution_count": 10
        }
      ]
    },
    {
      "cell_type": "code",
      "metadata": {
        "colab": {
          "base_uri": "https://localhost:8080/"
        },
        "id": "dzNOp6t000A7",
        "outputId": "153fbdcd-6144-42c2-f40c-d4e77e192e90"
      },
      "source": [
        "df.groupby('label').size()"
      ],
      "execution_count": 54,
      "outputs": [
        {
          "output_type": "execute_result",
          "data": {
            "text/plain": [
              "label\n",
              "entertainment    1493\n",
              "international     678\n",
              "kolkata          5793\n",
              "nation           1809\n",
              "sport            1657\n",
              "state            2775\n",
              "dtype: int64"
            ]
          },
          "metadata": {
            "tags": []
          },
          "execution_count": 54
        }
      ]
    },
    {
      "cell_type": "code",
      "metadata": {
        "id": "z3H0NnPz1MFY"
      },
      "source": [
        "label=['entertainment','international','kolkata','nation','sport','state']"
      ],
      "execution_count": 55,
      "outputs": []
    },
    {
      "cell_type": "code",
      "metadata": {
        "colab": {
          "base_uri": "https://localhost:8080/",
          "height": 369
        },
        "id": "_kbVFKf-1Kix",
        "outputId": "8a14ef3c-6a80-42e7-f6ff-2646f78a86af"
      },
      "source": [
        "plt.figure(figsize=(8,5))\n",
        "plt.pie(df.groupby('label').size(),labels=label,explode=(0,0,0.05,0,0,0),radius=1,autopct='%0.2f%%',shadow=True)\n",
        "plt.tight_layout()\n",
        "plt.legend(loc='upper left')\n",
        "plt.axis('equal')\n",
        "plt.show()"
      ],
      "execution_count": 61,
      "outputs": [
        {
          "output_type": "display_data",
          "data": {
            "image/png": "[encoded data removed]",
            "text/plain": [
              "<Figure size 576x360 with 1 Axes>"
            ]
          },
          "metadata": {
            "tags": []
          }
        }
      ]
    },
    {
      "cell_type": "code",
      "metadata": {
        "id": "aFV0PPk52PwA"
      },
      "source": [
        ""
      ],
      "execution_count": null,
      "outputs": []
    },
    {
      "cell_type": "markdown",
      "metadata": {
        "id": "k7E_Ff5s2QW_"
      },
      "source": [
        "# Deep learning approch"
      ]
    },
    {
      "cell_type": "code",
      "metadata": {
        "id": "H0jNk6Q-4wEl"
      },
      "source": [
        "cleaned_body=remove_punc(df.body)\n",
        "cleaned_body=replace_strings(cleaned_body, replace)"
      ],
      "execution_count": 67,
      "outputs": []
    },
    {
      "cell_type": "code",
      "metadata": {
        "id": "GoFu_o5w5VhN",
        "colab": {
          "base_uri": "https://localhost:8080/"
        },
        "outputId": "f1b2124f-de6b-448b-9f43-93e3d56b676f"
      },
      "source": [
        "%tensorflow_version 1.x"
      ],
      "execution_count": 11,
      "outputs": [
        {
          "output_type": "stream",
          "text": [
            "TensorFlow 1.x selected.\n"
          ],
          "name": "stdout"
        }
      ]
    },
    {
      "cell_type": "code",
      "metadata": {
        "colab": {
          "base_uri": "https://localhost:8080/"
        },
        "id": "JmES_jv9lN-y",
        "outputId": "0d0ba34a-d667-47ae-9b53-b5be57fc39c5"
      },
      "source": [
        "from sklearn.model_selection import train_test_split\n",
        "from sklearn.preprocessing import LabelBinarizer\n",
        "from keras.preprocessing.text import Tokenizer\n",
        "from keras.preprocessing.sequence import pad_sequences\n",
        "from sklearn.feature_extraction.text import TfidfVectorizer\n",
        "from keras.layers import SpatialDropout1D\n",
        "from keras.utils import to_categorical\n",
        "from sklearn.metrics import classification_report\n",
        "from sklearn.metrics import roc_auc_score\n",
        "from sklearn.metrics import roc_curve\n",
        "from sklearn.metrics import precision_recall_curve\n",
        "from sklearn.model_selection import GridSearchCV\n",
        "from keras.models import Sequential\n",
        "from keras.layers import Dense\n",
        "from keras.layers import LSTM\n",
        "from keras.layers.embeddings import Embedding\n",
        "from keras.preprocessing import sequence\n",
        "from keras.callbacks import EarlyStopping\n",
        "from sklearn.feature_selection import RFE\n",
        "from keras.layers import Conv1D\n",
        "from keras.layers import MaxPooling1D\n",
        "import tensorflow as tf"
      ],
      "execution_count": 12,
      "outputs": [
        {
          "output_type": "stream",
          "text": [
            "Using TensorFlow backend.\n"
          ],
          "name": "stderr"
        }
      ]
    },
    {
      "cell_type": "code",
      "metadata": {
        "colab": {
          "base_uri": "https://localhost:8080/"
        },
        "id": "zcP0L1SAlUbU",
        "outputId": "dbf5f5be-31b3-46d9-d262-398d4ba8639d"
      },
      "source": [
        "MAX_NB_WORDS = 50000\n",
        "# Max number of words in each complaint.\n",
        "MAX_SEQUENCE_LENGTH = 250\n",
        "# This is fixed.\n",
        "EMBEDDING_DIM = 200\n",
        "tokenizer = Tokenizer(num_words=MAX_NB_WORDS, filters='!\"#$%&()*+,-./:;<=>?@[\\]^_`{|}~।', lower=False)\n",
        "tokenizer.fit_on_texts(df.body.values)\n",
        "word_index = tokenizer.word_index\n",
        "vocab_size = len(word_index)\n",
        "print('Found %s unique tokens.' % vocab_size)"
      ],
      "execution_count": 13,
      "outputs": [
        {
          "output_type": "stream",
          "text": [
            "Found 184472 unique tokens.\n"
          ],
          "name": "stdout"
        }
      ]
    },
    {
      "cell_type": "code",
      "metadata": {
        "colab": {
          "base_uri": "https://localhost:8080/"
        },
        "id": "Kcd0GTnTleI5",
        "outputId": "624ece9c-4075-4136-b523-d354f060da62"
      },
      "source": [
        "X = tokenizer.texts_to_sequences(df.body.values)\n",
        "X = pad_sequences(X, maxlen=MAX_SEQUENCE_LENGTH)\n",
        "print('Shape of data tensor:', X.shape)"
      ],
      "execution_count": 14,
      "outputs": [
        {
          "output_type": "stream",
          "text": [
            "Shape of data tensor: (14205, 250)\n"
          ],
          "name": "stdout"
        }
      ]
    },
    {
      "cell_type": "code",
      "metadata": {
        "colab": {
          "base_uri": "https://localhost:8080/"
        },
        "id": "6OORMvW2liwf",
        "outputId": "c286ae4c-06f4-4e6d-dc48-77e1e792994a"
      },
      "source": [
        "Y = pd.get_dummies(df.label).values\n",
        "print('Shape of label tensor:', Y.shape)"
      ],
      "execution_count": 15,
      "outputs": [
        {
          "output_type": "stream",
          "text": [
            "Shape of label tensor: (14205, 10)\n"
          ],
          "name": "stdout"
        }
      ]
    },
    {
      "cell_type": "code",
      "metadata": {
        "id": "hKxWmIQZlzAA"
      },
      "source": [
        "train_features, test_features, train_labels, test_labels = train_test_split(X, Y, test_size=0.20)"
      ],
      "execution_count": 16,
      "outputs": []
    },
    {
      "cell_type": "code",
      "metadata": {
        "id": "JBxXeWrFl28W"
      },
      "source": [
        "embeddings_index = {};\n",
        "with open('/content/drive/MyDrive/Dataset/News Articles/custom_glove_200d.txt') as f:\n",
        "    for line in f:\n",
        "        values = line.split();\n",
        "        word = values[0];\n",
        "        coefs = np.asarray(values[1:], dtype='float32');\n",
        "        embeddings_index[word] = coefs;\n",
        "\n",
        "embeddings_matrix = np.zeros((vocab_size+1, EMBEDDING_DIM));\n",
        "for word, i in word_index.items():\n",
        "    embedding_vector = embeddings_index.get(word);\n",
        "    if embedding_vector is not None:\n",
        "        embeddings_matrix[i] = embedding_vector"
      ],
      "execution_count": 17,
      "outputs": []
    },
    {
      "cell_type": "code",
      "metadata": {
        "colab": {
          "base_uri": "https://localhost:8080/"
        },
        "id": "JLGArCuhmFsy",
        "outputId": "8e20fca6-9517-42cb-ed8f-608524c9ad4e"
      },
      "source": [
        "model = tf.keras.models.Sequential()\n",
        "model.add(tf.keras.layers.Embedding(vocab_size+1, EMBEDDING_DIM, input_length=X.shape[1], weights=[embeddings_matrix]))\n",
        "# experiment with combining different types, such as convolutions and LSTMs\n",
        "model.add(tf.keras.layers.Dropout(0.2))\n",
        "model.add(tf.keras.layers.Conv1D(100, 5, activation='relu'))\n",
        "model.add(tf.keras.layers.MaxPooling1D(pool_size=4))\n",
        "model.add(tf.keras.layers.LSTM(100))\n",
        "model.add(tf.keras.layers.Dense(10, activation='softmax'))\n",
        "    \n",
        "model.compile(loss='categorical_crossentropy',optimizer='adam',metrics=['accuracy']) \n",
        "model.summary()"
      ],
      "execution_count": 18,
      "outputs": [
        {
          "output_type": "stream",
          "text": [
            "WARNING:tensorflow:From /tensorflow-1.15.2/python3.7/tensorflow_core/python/keras/initializers.py:119: calling RandomUniform.__init__ (from tensorflow.python.ops.init_ops) with dtype is deprecated and will be removed in a future version.\n",
            "Instructions for updating:\n",
            "Call initializer instance with the dtype argument instead of passing it to the constructor\n",
            "WARNING:tensorflow:From /tensorflow-1.15.2/python3.7/tensorflow_core/python/ops/resource_variable_ops.py:1630: calling BaseResourceVariable.__init__ (from tensorflow.python.ops.resource_variable_ops) with constraint is deprecated and will be removed in a future version.\n",
            "Instructions for updating:\n",
            "If using Keras pass *_constraint arguments to layers.\n",
            "Model: \"sequential\"\n",
            "_________________________________________________________________\n",
            "Layer (type)                 Output Shape              Param #   \n",
            "=================================================================\n",
            "embedding (Embedding)        (None, 250, 200)          36894600  \n",
            "_________________________________________________________________\n",
            "dropout (Dropout)            (None, 250, 200)          0         \n",
            "_________________________________________________________________\n",
            "conv1d (Conv1D)              (None, 246, 100)          100100    \n",
            "_________________________________________________________________\n",
            "max_pooling1d (MaxPooling1D) (None, 61, 100)           0         \n",
            "_________________________________________________________________\n",
            "lstm (LSTM)                  (None, 100)               80400     \n",
            "_________________________________________________________________\n",
            "dense (Dense)                (None, 10)                1010      \n",
            "=================================================================\n",
            "Total params: 37,076,110\n",
            "Trainable params: 37,076,110\n",
            "Non-trainable params: 0\n",
            "_________________________________________________________________\n"
          ],
          "name": "stdout"
        }
      ]
    },
    {
      "cell_type": "code",
      "metadata": {
        "colab": {
          "base_uri": "https://localhost:8080/"
        },
        "id": "xcaGsyfRmh31",
        "outputId": "40c7d0da-27d7-4370-b168-541bbdea76a4"
      },
      "source": [
        "epochs = 50\n",
        "batch_size = 16\n",
        "\n",
        "history = model.fit(train_features, train_labels, epochs=epochs, batch_size=batch_size,validation_split=0.1,callbacks=[EarlyStopping(monitor='val_loss', patience=3, min_delta=0.0001)], verbose=2)"
      ],
      "execution_count": 19,
      "outputs": [
        {
          "output_type": "stream",
          "text": [
            "WARNING:tensorflow:From /tensorflow-1.15.2/python3.7/tensorflow_core/python/ops/math_grad.py:1424: where (from tensorflow.python.ops.array_ops) is deprecated and will be removed in a future version.\n",
            "Instructions for updating:\n",
            "Use tf.where in 2.0, which has the same broadcast rule as np.where\n",
            "Train on 10227 samples, validate on 1137 samples\n",
            "Epoch 1/50\n",
            "10227/10227 - 58s - loss: 1.0207 - acc: 0.6091 - val_loss: 0.6517 - val_acc: 0.7432\n",
            "Epoch 2/50\n",
            "10227/10227 - 50s - loss: 0.5381 - acc: 0.8075 - val_loss: 0.4655 - val_acc: 0.8320\n",
            "Epoch 3/50\n",
            "10227/10227 - 50s - loss: 0.3524 - acc: 0.8764 - val_loss: 0.4453 - val_acc: 0.8487\n",
            "Epoch 4/50\n",
            "10227/10227 - 50s - loss: 0.2347 - acc: 0.9220 - val_loss: 0.5057 - val_acc: 0.8329\n",
            "Epoch 5/50\n",
            "10227/10227 - 50s - loss: 0.1489 - acc: 0.9525 - val_loss: 0.4480 - val_acc: 0.8619\n",
            "Epoch 6/50\n",
            "10227/10227 - 50s - loss: 0.0945 - acc: 0.9722 - val_loss: 0.4964 - val_acc: 0.8575\n"
          ],
          "name": "stdout"
        }
      ]
    },
    {
      "cell_type": "code",
      "metadata": {
        "colab": {
          "base_uri": "https://localhost:8080/"
        },
        "id": "SXdFXiDmzwfn",
        "outputId": "242b0f05-37b0-4728-d4ee-51208d28c2d9"
      },
      "source": [
        "accr = model.evaluate(test_features,test_labels)\n",
        "print('Test set\\n  Loss: {:0.3f}\\n  Accuracy: {:0.3f}'.format(accr[0],accr[1]))"
      ],
      "execution_count": 49,
      "outputs": [
        {
          "output_type": "stream",
          "text": [
            "2841/2841 [==============================] - 2s 562us/sample - loss: 0.5110 - acc: 0.8493\n",
            "Test set\n",
            "  Loss: 0.511\n",
            "  Accuracy: 0.849\n"
          ],
          "name": "stdout"
        }
      ]
    },
    {
      "cell_type": "code",
      "metadata": {
        "colab": {
          "base_uri": "https://localhost:8080/",
          "height": 545
        },
        "id": "cOEOnqUynEA8",
        "outputId": "77e608eb-937e-4963-bcbd-e97426b5a227"
      },
      "source": [
        "from matplotlib import pyplot as plt\n",
        "plt.title('Loss')\n",
        "plt.plot(history.history['loss'], label='train')\n",
        "plt.plot(history.history['val_loss'], label='test')\n",
        "plt.legend()\n",
        "plt.show()\n",
        "plt.title('Accuracy')\n",
        "plt.plot(history.history['acc'], label='train')\n",
        "plt.plot(history.history['val_acc'], label='test')\n",
        "plt.legend()\n",
        "plt.show()"
      ],
      "execution_count": 22,
      "outputs": [
        {
          "output_type": "display_data",
          "data": {
            "image/png": "[encoded data removed]",
            "text/plain": [
              "<Figure size 432x288 with 1 Axes>"
            ]
          },
          "metadata": {
            "tags": [],
            "needs_background": "light"
          }
        },
        {
          "output_type": "display_data",
          "data": {
            "image/png": "[encoded data removed]",
            "text/plain": [
              "<Figure size 432x288 with 1 Axes>"
            ]
          },
          "metadata": {
            "tags": [],
            "needs_background": "light"
          }
        }
      ]
    },
    {
      "cell_type": "code",
      "metadata": {
        "id": "td0IoI0p2Zx_"
      },
      "source": [
        ""
      ],
      "execution_count": null,
      "outputs": []
    },
    {
      "cell_type": "markdown",
      "metadata": {
        "id": "R1R2IL6s2aOu"
      },
      "source": [
        "# Machine learning approach"
      ]
    },
    {
      "cell_type": "markdown",
      "metadata": {
        "id": "AyEz8kRU2Ybz"
      },
      "source": [
        ""
      ]
    },
    {
      "cell_type": "code",
      "metadata": {
        "id": "4gdqwCAgoicN"
      },
      "source": [
        "from sklearn.pipeline import Pipeline\n",
        "from sklearn.feature_extraction.text import TfidfVectorizer\n",
        "from sklearn.naive_bayes import MultinomialNB\n",
        "from sklearn.svm import LinearSVC"
      ],
      "execution_count": 31,
      "outputs": []
    },
    {
      "cell_type": "code",
      "metadata": {
        "colab": {
          "base_uri": "https://localhost:8080/"
        },
        "id": "CjxI6HXGxRBO",
        "outputId": "605b6d13-0901-4eae-8b1e-45d253475792"
      },
      "source": [
        "df.groupby('label').size()"
      ],
      "execution_count": 33,
      "outputs": [
        {
          "output_type": "execute_result",
          "data": {
            "text/plain": [
              "label\n",
              "entertainment    1492\n",
              "international     664\n",
              "kolkata          5793\n",
              "nation             15\n",
              "national         1794\n",
              "sport              20\n",
              "sports           1637\n",
              "state            2775\n",
              "travel              1\n",
              "world              14\n",
              "dtype: int64"
            ]
          },
          "metadata": {
            "tags": []
          },
          "execution_count": 33
        }
      ]
    },
    {
      "cell_type": "code",
      "metadata": {
        "id": "dUdpOZDBneRn"
      },
      "source": [
        "df.label=df.label.replace({'national':'nation','sports':'sport','world':'international','travel':'entertainment'})"
      ],
      "execution_count": 34,
      "outputs": []
    },
    {
      "cell_type": "code",
      "metadata": {
        "id": "Sb31wd3nyp-V"
      },
      "source": [
        "x_train,x_test,y_train,y_test=train_test_split(df.body,df.label)"
      ],
      "execution_count": 43,
      "outputs": []
    },
    {
      "cell_type": "code",
      "metadata": {
        "id": "Sf-U3QBdyDM6"
      },
      "source": [
        "text_cl_nv=Pipeline([('tfidf',TfidfVectorizer(max_df=0.95)),('clf',MultinomialNB())])\n",
        "text_cl_svm=Pipeline([('tfidf',TfidfVectorizer(max_df=0.95)),('clf',LinearSVC())])"
      ],
      "execution_count": 39,
      "outputs": []
    },
    {
      "cell_type": "code",
      "metadata": {
        "colab": {
          "base_uri": "https://localhost:8080/"
        },
        "id": "PQ5viC56yJp3",
        "outputId": "802e2c4e-4c94-4eaa-9cae-8b1033c713b3"
      },
      "source": [
        "text_cl_nv.fit(x_train,y_train)\n",
        "text_cl_svm.fit(x_train,y_train)"
      ],
      "execution_count": 44,
      "outputs": [
        {
          "output_type": "execute_result",
          "data": {
            "text/plain": [
              "Pipeline(memory=None,\n",
              "         steps=[('tfidf',\n",
              "                 TfidfVectorizer(analyzer='word', binary=False,\n",
              "                                 decode_error='strict',\n",
              "                                 dtype=<class 'numpy.float64'>,\n",
              "                                 encoding='utf-8', input='content',\n",
              "                                 lowercase=True, max_df=0.95, max_features=None,\n",
              "                                 min_df=1, ngram_range=(1, 1), norm='l2',\n",
              "                                 preprocessor=None, smooth_idf=True,\n",
              "                                 stop_words=None, strip_accents=None,\n",
              "                                 sublinear_tf=False,\n",
              "                                 token_pattern='(?u)\\\\b\\\\w\\\\w+\\\\b',\n",
              "                                 tokenizer=None, use_idf=True,\n",
              "                                 vocabulary=None)),\n",
              "                ('clf',\n",
              "                 LinearSVC(C=1.0, class_weight=None, dual=True,\n",
              "                           fit_intercept=True, intercept_scaling=1,\n",
              "                           loss='squared_hinge', max_iter=1000,\n",
              "                           multi_class='ovr', penalty='l2', random_state=None,\n",
              "                           tol=0.0001, verbose=0))],\n",
              "         verbose=False)"
            ]
          },
          "metadata": {
            "tags": []
          },
          "execution_count": 44
        }
      ]
    },
    {
      "cell_type": "code",
      "metadata": {
        "id": "a6JDhC_mzARx"
      },
      "source": [
        "pred_nb=text_cl_nv.predict(x_test)\n",
        "pred_svm=text_cl_svm.predict(x_test)"
      ],
      "execution_count": 45,
      "outputs": []
    },
    {
      "cell_type": "code",
      "metadata": {
        "id": "YZ2xGVEpzOk3"
      },
      "source": [
        "from sklearn.metrics import classification_report"
      ],
      "execution_count": 46,
      "outputs": []
    },
    {
      "cell_type": "code",
      "metadata": {
        "colab": {
          "base_uri": "https://localhost:8080/"
        },
        "id": "cTS3111uzR22",
        "outputId": "c317a999-ed65-41f3-f293-ae311ef003a8"
      },
      "source": [
        "print('accuracy of naive bayes model is :',classification_report(y_test,pred_nb))"
      ],
      "execution_count": 47,
      "outputs": [
        {
          "output_type": "stream",
          "text": [
            "accuracy of naive bayes model is :                precision    recall  f1-score   support\n",
            "\n",
            "entertainment       0.89      0.14      0.24       365\n",
            "international       0.00      0.00      0.00       180\n",
            "      kolkata       0.41      1.00      0.58      1396\n",
            "       nation       0.89      0.02      0.04       439\n",
            "        sport       0.97      0.19      0.32       445\n",
            "        state       0.80      0.01      0.01       727\n",
            "\n",
            "     accuracy                           0.43      3552\n",
            "    macro avg       0.66      0.23      0.20      3552\n",
            " weighted avg       0.65      0.43      0.30      3552\n",
            "\n"
          ],
          "name": "stdout"
        },
        {
          "output_type": "stream",
          "text": [
            "/usr/local/lib/python3.7/dist-packages/sklearn/metrics/_classification.py:1272: UndefinedMetricWarning: Precision and F-score are ill-defined and being set to 0.0 in labels with no predicted samples. Use `zero_division` parameter to control this behavior.\n",
            "  _warn_prf(average, modifier, msg_start, len(result))\n"
          ],
          "name": "stderr"
        }
      ]
    },
    {
      "cell_type": "code",
      "metadata": {
        "colab": {
          "base_uri": "https://localhost:8080/"
        },
        "id": "yeE-fKgdzdNw",
        "outputId": "dae600ee-5663-48cc-d99e-ea57fa67b252"
      },
      "source": [
        "print('accuracy of svm model is :',classification_report(y_test,pred_svm))"
      ],
      "execution_count": 48,
      "outputs": [
        {
          "output_type": "stream",
          "text": [
            "accuracy of svm model is :                precision    recall  f1-score   support\n",
            "\n",
            "entertainment       0.81      0.85      0.83       365\n",
            "international       0.61      0.42      0.50       180\n",
            "      kolkata       0.85      0.93      0.89      1396\n",
            "       nation       0.69      0.65      0.67       439\n",
            "        sport       0.91      0.89      0.90       445\n",
            "        state       0.79      0.74      0.76       727\n",
            "\n",
            "     accuracy                           0.81      3552\n",
            "    macro avg       0.78      0.74      0.76      3552\n",
            " weighted avg       0.81      0.81      0.81      3552\n",
            "\n"
          ],
          "name": "stdout"
        }
      ]
    }
  ]
}